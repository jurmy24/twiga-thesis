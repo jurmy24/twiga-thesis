{
 "cells": [
  {
   "cell_type": "markdown",
   "metadata": {},
   "source": [
    "# Ablation Study Calculations\n",
    "This notebook contains all my code to run the ablation study and to compute the results"
   ]
  },
  {
   "cell_type": "code",
   "execution_count": 15,
   "metadata": {},
   "outputs": [],
   "source": [
    "import sys\n",
    "import os\n",
    "import json\n",
    "from dotenv import load_dotenv\n",
    "from typing import Literal\n",
    "\n",
    "load_dotenv()\n",
    "DATA_DIR = os.getenv(\"DATA_DIR_PATH\")"
   ]
  },
  {
   "cell_type": "code",
   "execution_count": 9,
   "metadata": {},
   "outputs": [],
   "source": [
    "notebook_dir = os.getcwd() # Get the current working directory of the notebook\n",
    "src_dir = os.path.abspath(os.path.join(notebook_dir, '..', '..')) # Construct the path to the src directory\n",
    "sys.path.append(src_dir) # Add the src directory to the system path\n",
    "\n",
    "from src.pipelines.pipeline_runner import run_data_through_generator\n",
    "from src.utils import load_json_to_pipelinedata, save_objects_as_json"
   ]
  },
  {
   "cell_type": "markdown",
   "metadata": {},
   "source": [
    "## Complete the ablation runs"
   ]
  },
  {
   "cell_type": "code",
   "execution_count": 21,
   "metadata": {},
   "outputs": [
    {
     "name": "stdout",
     "output_type": "stream",
     "text": [
      "False\n"
     ]
    }
   ],
   "source": [
    "what_to_ablate = Literal[\"query-rewriter\", \"sparse-retriever\", \"reranker\", \"sample-questions\", \"one-shot\"] \n",
    "\n",
    "# What do you wish to get rid of in this run?\n",
    "what_to_ablate = \"query-rewriter\"\n",
    "\n",
    "ablation_params = {\n",
    "        \"no_rewriter\": False,\n",
    "        \"no_sparse_retriever\": False,\n",
    "        \"no_reranker\": False,\n",
    "        \"no_sample_questions\": False,\n",
    "        \"no_one_shot\": False\n",
    "    }\n",
    "\n",
    "if what_to_ablate == \"query-rewriter\":\n",
    "    input_file = os.path.join(\"..\", \"..\", \"data\", \"datasets\", \"ablation\", \"retrieved-(no-query-rewrite).json\")\n",
    "    output_file = os.path.join(\"..\", \"..\", \"data\", \"complete_runs\", \"ablation-llama3-no-query-rewrite.json\")\n",
    "    ablation_params[\"no_rewriter\"] = True\n",
    "elif what_to_ablate == \"sparse-retriever\":\n",
    "    input_file = os.path.join(\"..\", \"..\", \"data\", \"datasets\", \"ablation\", \"retrieved-(no-sparse-retrieval).json\")\n",
    "    output_file = os.path.join(\"..\", \"..\", \"data\", \"complete_runs\", \"ablation-llama3-no-sparse-retriever.json\")\n",
    "    ablation_params[\"no_sparse_retriever\"] = True\n",
    "elif what_to_ablate == \"reranker\":\n",
    "    input_file = os.path.join(\"..\", \"..\", \"data\", \"datasets\", \"ablation\", \"retrieved-(no-query-rewrite).json\")\n",
    "    output_file = os.path.join(\"..\", \"..\", \"data\", \"complete_runs\", \"ablation-llama3-no-reranker.json\")\n",
    "    ablation_params[\"no_reranker\"] = True\n",
    "elif what_to_ablate == \"sample-questions\":\n",
    "    input_file = os.path.join(\"..\", \"..\", \"data\", \"datasets\", \"main\", \"test-prompts-rewritten-retrieved.json\")\n",
    "    output_file = os.path.join(\"..\", \"..\", \"data\", \"complete_runs\", \"ablation-llama3-no-sample-questions.json\")\n",
    "    ablation_params[\"no_sample_questions\"] = True\n",
    "elif what_to_ablate == \"one-shot\":\n",
    "    input_file = os.path.join(\"..\", \"..\", \"data\", \"datasets\", \"main\", \"test-prompts-rewritten-retrieved.json\")\n",
    "    output_file = os.path.join(\"..\", \"..\", \"data\", \"complete_runs\", \"ablation-llama3-no-one-shot.json\")\n",
    "    ablation_params[\"no_one_shot\"] = True\n",
    "\n",
    "with open(input_file, 'r') as file:\n",
    "    data = json.load(file)\n",
    "\n",
    "incomplete_pipeline_data = load_json_to_pipelinedata(data)\n",
    "\n",
    "res = run_data_through_generator(incomplete_pipeline_data, \"llama3-70b-8192\", ablation_params=ablation_params, verbose=False)\n",
    "\n",
    "# save_objects_as_json(res, output_file, rewrite=True)\n",
    "\n",
    "\n"
   ]
  },
  {
   "cell_type": "markdown",
   "metadata": {},
   "source": [
    "## Ablation study automatic evaluation"
   ]
  },
  {
   "cell_type": "code",
   "execution_count": null,
   "metadata": {},
   "outputs": [],
   "source": []
  }
 ],
 "metadata": {
  "kernelspec": {
   "display_name": ".venv",
   "language": "python",
   "name": "python3"
  },
  "language_info": {
   "codemirror_mode": {
    "name": "ipython",
    "version": 3
   },
   "file_extension": ".py",
   "mimetype": "text/x-python",
   "name": "python",
   "nbconvert_exporter": "python",
   "pygments_lexer": "ipython3",
   "version": "3.11.6"
  }
 },
 "nbformat": 4,
 "nbformat_minor": 2
}
