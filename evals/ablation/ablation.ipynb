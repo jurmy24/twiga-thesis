{
 "cells": [
  {
   "cell_type": "markdown",
   "metadata": {},
   "source": [
    "# Ablation Study Calculations\n",
    "This notebook contains all my code to run the ablation study and to compute the results"
   ]
  },
  {
   "cell_type": "code",
   "execution_count": 15,
   "metadata": {},
   "outputs": [],
   "source": [
    "import sys\n",
    "import os\n",
    "import json\n",
    "from dotenv import load_dotenv\n",
    "from typing import Literal\n",
    "\n",
    "load_dotenv()\n",
    "DATA_DIR = os.getenv(\"DATA_DIR_PATH\")"
   ]
  },
  {
   "cell_type": "code",
   "execution_count": 9,
   "metadata": {},
   "outputs": [],
   "source": [
    "notebook_dir = os.getcwd() # Get the current working directory of the notebook\n",
    "src_dir = os.path.abspath(os.path.join(notebook_dir, '..', '..')) # Construct the path to the src directory\n",
    "sys.path.append(src_dir) # Add the src directory to the system path\n",
    "\n",
    "from src.pipelines.pipeline_runner import run_data_through_generator\n",
    "from src.utils import load_json_to_pipelinedata, save_objects_as_json"
   ]
  },
  {
   "cell_type": "markdown",
   "metadata": {},
   "source": [
    "## Complete the ablation runs"
   ]
  },
  {
   "cell_type": "code",
   "execution_count": 21,
   "metadata": {},
   "outputs": [
    {
     "name": "stdout",
     "output_type": "stream",
     "text": [
      "False\n"
     ]
    }
   ],
   "source": [
    "what_to_ablate = Literal[\"query-rewriter\", \"sparse-retriever\", \"reranker\", \"sample-questions\", \"one-shot\"] \n",
    "\n",
    "################################\n",
    "# What do you wish to get rid of in this run?\n",
    "what_to_ablate = \"query-rewriter\"\n",
    "################################\n",
    "\n",
    "ablation_params = {\n",
    "        \"no_rewriter\": False,\n",
    "        \"no_sparse_retriever\": False,\n",
    "        \"no_reranker\": False,\n",
    "        \"no_sample_questions\": False,\n",
    "        \"no_one_shot\": False\n",
    "    }\n",
    "\n",
    "if what_to_ablate == \"query-rewriter\":\n",
    "    input_file_main = os.path.join(\"..\", \"..\", \"data\", \"datasets\", \"ablation\", \"retrieved-(no-query-rewrite).json\")\n",
    "    output_file_main = os.path.join(\"..\", \"..\", \"data\", \"complete_runs\", \"ablation-llama3-no-query-rewrite.json\")\n",
    "    input_file_control = os.path.join(\"..\", \"..\", \"data\", \"datasets\", \"ablation\", \"control-retrieved-(no-query-rewrite).json\")\n",
    "    output_file_control = os.path.join(\"..\", \"..\", \"data\", \"complete_runs\", \"ablation-llama3-no-query-rewrite-control.json\")\n",
    "    ablation_params[\"no_rewriter\"] = True\n",
    "elif what_to_ablate == \"sparse-retriever\":\n",
    "    input_file_main = os.path.join(\"..\", \"..\", \"data\", \"datasets\", \"ablation\", \"retrieved-(no-sparse-retrieval).json\")\n",
    "    output_file_main = os.path.join(\"..\", \"..\", \"data\", \"complete_runs\", \"ablation-llama3-no-sparse-retriever.json\")\n",
    "    input_file_control = os.path.join(\"..\", \"..\", \"data\", \"datasets\", \"ablation\", \"control-retrieved-(no-sparse-retrieval).json\")\n",
    "    output_file_control = os.path.join(\"..\", \"..\", \"data\", \"complete_runs\", \"ablation-llama3-no-sparse-retriever-control.json\")\n",
    "    ablation_params[\"no_sparse_retriever\"] = True\n",
    "elif what_to_ablate == \"reranker\":\n",
    "    input_file_main = os.path.join(\"..\", \"..\", \"data\", \"datasets\", \"ablation\", \"retrieved-(no-query-rewrite).json\")\n",
    "    output_file_main = os.path.join(\"..\", \"..\", \"data\", \"complete_runs\", \"ablation-llama3-no-reranker.json\")\n",
    "    input_file_control = os.path.join(\"..\", \"..\", \"data\", \"datasets\", \"ablation\", \"control-retrieved-(no-query-rewrite).json\")\n",
    "    output_file_control = os.path.join(\"..\", \"..\", \"data\", \"complete_runs\", \"ablation-llama3-no-reranker-control.json\")\n",
    "    ablation_params[\"no_reranker\"] = True\n",
    "elif what_to_ablate == \"sample-questions\":\n",
    "    input_file_main = os.path.join(\"..\", \"..\", \"data\", \"datasets\", \"main\", \"test-prompts-rewritten-retrieved.json\")\n",
    "    output_file_main = os.path.join(\"..\", \"..\", \"data\", \"complete_runs\", \"ablation-llama3-no-sample-questions.json\")\n",
    "    input_file_control = os.path.join(\"..\", \"..\", \"data\", \"datasets\", \"main\", \"control-test-prompts-rewritten-retrieved.json\")\n",
    "    output_file_control = os.path.join(\"..\", \"..\", \"data\", \"complete_runs\", \"ablation-llama3-no-sample-questions-control.json\")\n",
    "    ablation_params[\"no_sample_questions\"] = True\n",
    "elif what_to_ablate == \"one-shot\":\n",
    "    input_file_main = os.path.join(\"..\", \"..\", \"data\", \"datasets\", \"main\", \"test-prompts-rewritten-retrieved.json\")\n",
    "    output_file_main = os.path.join(\"..\", \"..\", \"data\", \"complete_runs\", \"ablation-llama3-no-one-shot.json\")\n",
    "    input_file_control = os.path.join(\"..\", \"..\", \"data\", \"datasets\", \"main\", \"control-test-prompts-rewritten-retrieved.json\")\n",
    "    output_file_control = os.path.join(\"..\", \"..\", \"data\", \"complete_runs\", \"ablation-llama3-no-one-shot-control.json\")\n",
    "    ablation_params[\"no_one_shot\"] = True\n",
    "\n",
    "with open(input_file_control, 'r') as file:\n",
    "    data_control = json.load(file)\n",
    "    incomplete_pipeline_data_control = load_json_to_pipelinedata(data_control)\n",
    "\n",
    "with open(input_file_main, 'r') as file:\n",
    "    data_main = json.load(file)\n",
    "    incomplete_pipeline_data_main = load_json_to_pipelinedata(data_main)\n",
    "\n",
    "\n",
    "res = run_data_through_generator(incomplete_pipeline_data_control, \"llama3-70b-8192\", ablation_params=ablation_params, verbose=False)\n",
    "save_objects_as_json(res, output_file_control, rewrite=True)\n",
    "\n",
    "res = run_data_through_generator(incomplete_pipeline_data_main, \"llama3-70b-8192\", ablation_params=ablation_params, verbose=False)\n",
    "save_objects_as_json(res, output_file_main, rewrite=True)"
   ]
  },
  {
   "cell_type": "markdown",
   "metadata": {},
   "source": [
    "## Ablation study automatic evaluation"
   ]
  },
  {
   "cell_type": "code",
   "execution_count": null,
   "metadata": {},
   "outputs": [],
   "source": [
    "################################\n",
    "# What do you wish to get rid of in this run?\n",
    "what_to_ablate = \"query-rewriter\"\n",
    "################################\n",
    "\n",
    "if what_to_ablate == \"query-rewriter\":\n",
    "    data_file_main = os.path.join(\"..\", \"..\", \"data\", \"complete_runs\", \"ablation-llama3-no-query-rewrite.json\")\n",
    "    data_file_control = os.path.join(\"..\", \"..\", \"data\", \"complete_runs\", \"ablation-llama3-no-query-rewrite-control.json\")\n",
    "elif what_to_ablate == \"sparse-retriever\":\n",
    "    data_file_main = os.path.join(\"..\", \"..\", \"data\", \"complete_runs\", \"ablation-llama3-no-sparse-retriever.json\")\n",
    "    data_file_control = os.path.join(\"..\", \"..\", \"data\", \"complete_runs\", \"ablation-llama3-no-sparse-retriever-control.json\")\n",
    "elif what_to_ablate == \"reranker\":\n",
    "    data_file_main = os.path.join(\"..\", \"..\", \"data\", \"complete_runs\", \"ablation-llama3-no-reranker.json\")\n",
    "    data_file_control = os.path.join(\"..\", \"..\", \"data\", \"complete_runs\", \"ablation-llama3-no-reranker-control.json\")\n",
    "elif what_to_ablate == \"sample-questions\":\n",
    "    data_file_main = os.path.join(\"..\", \"..\", \"data\", \"complete_runs\", \"ablation-llama3-no-sample-questions.json\")\n",
    "    data_file_control = os.path.join(\"..\", \"..\", \"data\", \"complete_runs\", \"ablation-llama3-no-sample-questions-control.json\")\n",
    "elif what_to_ablate == \"one-shot\":\n",
    "    data_file_main = os.path.join(\"..\", \"..\", \"data\", \"complete_runs\", \"ablation-llama3-no-one-shot.json\")\n",
    "    data_file_control = os.path.join(\"..\", \"..\", \"data\", \"complete_runs\", \"ablation-llama3-no-one-shot-control.json\")"
   ]
  }
 ],
 "metadata": {
  "kernelspec": {
   "display_name": ".venv",
   "language": "python",
   "name": "python3"
  },
  "language_info": {
   "codemirror_mode": {
    "name": "ipython",
    "version": 3
   },
   "file_extension": ".py",
   "mimetype": "text/x-python",
   "name": "python",
   "nbconvert_exporter": "python",
   "pygments_lexer": "ipython3",
   "version": "3.11.6"
  }
 },
 "nbformat": 4,
 "nbformat_minor": 2
}
