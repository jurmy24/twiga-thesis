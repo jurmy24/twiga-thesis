{
 "cells": [
  {
   "cell_type": "markdown",
   "metadata": {},
   "source": [
    "# Ablation Study Calculations\n",
    "This notebook contains all my code to run the ablation study and to compute the results"
   ]
  },
  {
   "cell_type": "code",
   "execution_count": 1,
   "metadata": {},
   "outputs": [],
   "source": [
    "import sys\n",
    "import os\n",
    "import json\n",
    "# from dotenv import load_dotenv\n",
    "from typing import Literal\n",
    "import time\n",
    "\n",
    "# load_dotenv()\n",
    "# DATA_DIR = os.getenv(\"DATA_DIR_PATH\")"
   ]
  },
  {
   "cell_type": "code",
   "execution_count": 2,
   "metadata": {},
   "outputs": [
    {
     "name": "stderr",
     "output_type": "stream",
     "text": [
      "/Users/victoroldensand/Documents/KTH/master-thesis/codebase/twiga/.venv/lib/python3.11/site-packages/tqdm/auto.py:21: TqdmWarning: IProgress not found. Please update jupyter and ipywidgets. See https://ipywidgets.readthedocs.io/en/stable/user_install.html\n",
      "  from .autonotebook import tqdm as notebook_tqdm\n"
     ]
    }
   ],
   "source": [
    "notebook_dir = os.getcwd() # Get the current working directory of the notebook\n",
    "src_dir = os.path.abspath(os.path.join(notebook_dir, '..', '..')) # Construct the path to the src directory\n",
    "sys.path.append(src_dir) # Add the src directory to the system path\n",
    "\n",
    "from src.pipelines.pipeline_runner import run_data_through_generator\n",
    "from src.utils import load_json_to_pipelinedata, save_objects_as_json"
   ]
  },
  {
   "cell_type": "markdown",
   "metadata": {},
   "source": [
    "## Complete the ablation runs"
   ]
  },
  {
   "cell_type": "code",
   "execution_count": 7,
   "metadata": {},
   "outputs": [
    {
     "ename": "UnicodeDecodeError",
     "evalue": "'charmap' codec can't decode byte 0x9d in position 15138459: character maps to <undefined>",
     "output_type": "error",
     "traceback": [
      "\u001b[1;31m---------------------------------------------------------------------------\u001b[0m",
      "\u001b[1;31mUnicodeDecodeError\u001b[0m                        Traceback (most recent call last)",
      "Cell \u001b[1;32mIn[7], line 60\u001b[0m\n\u001b[0;32m     57\u001b[0m     incomplete_pipeline_data_control \u001b[38;5;241m=\u001b[39m load_json_to_pipelinedata(data_control)\n\u001b[0;32m     59\u001b[0m \u001b[38;5;28;01mwith\u001b[39;00m \u001b[38;5;28mopen\u001b[39m(input_file_main, \u001b[38;5;124m'\u001b[39m\u001b[38;5;124mr\u001b[39m\u001b[38;5;124m'\u001b[39m) \u001b[38;5;28;01mas\u001b[39;00m file:\n\u001b[1;32m---> 60\u001b[0m     data_main \u001b[38;5;241m=\u001b[39m \u001b[43mjson\u001b[49m\u001b[38;5;241;43m.\u001b[39;49m\u001b[43mload\u001b[49m\u001b[43m(\u001b[49m\u001b[43mfile\u001b[49m\u001b[43m)\u001b[49m\n\u001b[0;32m     61\u001b[0m     incomplete_pipeline_data_main \u001b[38;5;241m=\u001b[39m load_json_to_pipelinedata(data_main)\n\u001b[0;32m     63\u001b[0m \u001b[38;5;66;03m# # Run the ablation study using llama3-70b-8192 due to its success in the \u001b[39;00m\n",
      "File \u001b[1;32m~\\AppData\\Local\\Programs\\Python\\Python311\\Lib\\json\\__init__.py:293\u001b[0m, in \u001b[0;36mload\u001b[1;34m(fp, cls, object_hook, parse_float, parse_int, parse_constant, object_pairs_hook, **kw)\u001b[0m\n\u001b[0;32m    274\u001b[0m \u001b[38;5;28;01mdef\u001b[39;00m \u001b[38;5;21mload\u001b[39m(fp, \u001b[38;5;241m*\u001b[39m, \u001b[38;5;28mcls\u001b[39m\u001b[38;5;241m=\u001b[39m\u001b[38;5;28;01mNone\u001b[39;00m, object_hook\u001b[38;5;241m=\u001b[39m\u001b[38;5;28;01mNone\u001b[39;00m, parse_float\u001b[38;5;241m=\u001b[39m\u001b[38;5;28;01mNone\u001b[39;00m,\n\u001b[0;32m    275\u001b[0m         parse_int\u001b[38;5;241m=\u001b[39m\u001b[38;5;28;01mNone\u001b[39;00m, parse_constant\u001b[38;5;241m=\u001b[39m\u001b[38;5;28;01mNone\u001b[39;00m, object_pairs_hook\u001b[38;5;241m=\u001b[39m\u001b[38;5;28;01mNone\u001b[39;00m, \u001b[38;5;241m*\u001b[39m\u001b[38;5;241m*\u001b[39mkw):\n\u001b[0;32m    276\u001b[0m \u001b[38;5;250m    \u001b[39m\u001b[38;5;124;03m\"\"\"Deserialize ``fp`` (a ``.read()``-supporting file-like object containing\u001b[39;00m\n\u001b[0;32m    277\u001b[0m \u001b[38;5;124;03m    a JSON document) to a Python object.\u001b[39;00m\n\u001b[0;32m    278\u001b[0m \n\u001b[1;32m   (...)\u001b[0m\n\u001b[0;32m    291\u001b[0m \u001b[38;5;124;03m    kwarg; otherwise ``JSONDecoder`` is used.\u001b[39;00m\n\u001b[0;32m    292\u001b[0m \u001b[38;5;124;03m    \"\"\"\u001b[39;00m\n\u001b[1;32m--> 293\u001b[0m     \u001b[38;5;28;01mreturn\u001b[39;00m loads(\u001b[43mfp\u001b[49m\u001b[38;5;241;43m.\u001b[39;49m\u001b[43mread\u001b[49m\u001b[43m(\u001b[49m\u001b[43m)\u001b[49m,\n\u001b[0;32m    294\u001b[0m         \u001b[38;5;28mcls\u001b[39m\u001b[38;5;241m=\u001b[39m\u001b[38;5;28mcls\u001b[39m, object_hook\u001b[38;5;241m=\u001b[39mobject_hook,\n\u001b[0;32m    295\u001b[0m         parse_float\u001b[38;5;241m=\u001b[39mparse_float, parse_int\u001b[38;5;241m=\u001b[39mparse_int,\n\u001b[0;32m    296\u001b[0m         parse_constant\u001b[38;5;241m=\u001b[39mparse_constant, object_pairs_hook\u001b[38;5;241m=\u001b[39mobject_pairs_hook, \u001b[38;5;241m*\u001b[39m\u001b[38;5;241m*\u001b[39mkw)\n",
      "File \u001b[1;32m~\\AppData\\Local\\Programs\\Python\\Python311\\Lib\\encodings\\cp1252.py:23\u001b[0m, in \u001b[0;36mIncrementalDecoder.decode\u001b[1;34m(self, input, final)\u001b[0m\n\u001b[0;32m     22\u001b[0m \u001b[38;5;28;01mdef\u001b[39;00m \u001b[38;5;21mdecode\u001b[39m(\u001b[38;5;28mself\u001b[39m, \u001b[38;5;28minput\u001b[39m, final\u001b[38;5;241m=\u001b[39m\u001b[38;5;28;01mFalse\u001b[39;00m):\n\u001b[1;32m---> 23\u001b[0m     \u001b[38;5;28;01mreturn\u001b[39;00m codecs\u001b[38;5;241m.\u001b[39mcharmap_decode(\u001b[38;5;28minput\u001b[39m,\u001b[38;5;28mself\u001b[39m\u001b[38;5;241m.\u001b[39merrors,decoding_table)[\u001b[38;5;241m0\u001b[39m]\n",
      "\u001b[1;31mUnicodeDecodeError\u001b[0m: 'charmap' codec can't decode byte 0x9d in position 15138459: character maps to <undefined>"
     ]
    }
   ],
   "source": [
    "what_to_ablate = Literal[\"query-rewriter\", \"sparse-retriever\", \"reranker\", \"sample-questions\", \"one-shot\"] \n",
    "\n",
    "################################\n",
    "# What do you wish to get rid of in this run?\n",
    "what_to_ablate = \"query-rewriter\"\n",
    "################################\n",
    "\n",
    "for what_to_ablate in [\"sparse-retriever\", \"reranker\", \"sample-questions\", \"one-shot\"]:\n",
    "\n",
    "    ablation_params = {\n",
    "            \"no_rewriter\": False,\n",
    "            \"no_sparse_retriever\": False,\n",
    "            \"no_reranker\": False,\n",
    "            \"no_sample_questions\": False,\n",
    "            \"no_one_shot\": False\n",
    "        }\n",
    "\n",
    "    if what_to_ablate == \"query-rewriter\":\n",
    "        input_file_main = os.path.join(\"..\", \"..\", \"data\", \"ablation\", \"datasets\", \"retrieved-(no-query-rewrite).json\")\n",
    "        output_file_main = os.path.join(\"..\", \"..\", \"data\", \"ablation\", \"complete_runs\", \"ablation-llama3-no-query-rewrite.json\")\n",
    "\n",
    "        input_file_control = os.path.join(\"..\", \"..\", \"data\", \"ablation\", \"datasets\", \"control-retrieved-(no-query-rewrite).json\")\n",
    "        output_file_control = os.path.join(\"..\", \"..\", \"data\", \"ablation\", \"complete_runs\", \"ablation-llama3-no-query-rewrite-control.json\")\n",
    "        ablation_params[\"no_rewriter\"] = True\n",
    "    elif what_to_ablate == \"sparse-retriever\":\n",
    "        input_file_main = os.path.join(\"..\", \"..\", \"data\", \"ablation\", \"datasets\", \"retrieved-(no-sparse-retrieval).json\")\n",
    "        output_file_main = os.path.join(\"..\", \"..\", \"data\", \"ablation\", \"complete_runs\", \"ablation-llama3-no-sparse-retriever.json\")\n",
    "\n",
    "        input_file_control = os.path.join(\"..\", \"..\", \"data\", \"ablation\", \"datasets\", \"control-retrieved-(no-sparse-retrieval).json\")\n",
    "        output_file_control = os.path.join(\"..\", \"..\", \"data\", \"ablation\", \"complete_runs\", \"ablation-llama3-no-sparse-retriever-control.json\")\n",
    "        ablation_params[\"no_sparse_retriever\"] = True\n",
    "    elif what_to_ablate == \"reranker\":\n",
    "        input_file_main = os.path.join(\"..\", \"..\", \"data\", \"ablation\", \"datasets\", \"retrieved-(no-query-rewrite).json\")\n",
    "        output_file_main = os.path.join(\"..\", \"..\", \"data\", \"ablation\", \"complete_runs\", \"ablation-llama3-no-reranker.json\")\n",
    "\n",
    "        input_file_control = os.path.join(\"..\", \"..\", \"data\", \"ablation\", \"datasets\", \"control-retrieved-(no-query-rewrite).json\")\n",
    "        output_file_control = os.path.join(\"..\", \"..\", \"data\", \"ablation\", \"complete_runs\", \"ablation-llama3-no-reranker-control.json\")\n",
    "        ablation_params[\"no_reranker\"] = True\n",
    "    elif what_to_ablate == \"sample-questions\":\n",
    "        input_file_main = os.path.join(\"..\", \"..\", \"data\", \"main\", \"datasets\", \"test-prompts-rewritten-retrieved.json\")\n",
    "        output_file_main = os.path.join(\"..\", \"..\", \"data\", \"ablation\", \"complete_runs\", \"ablation-llama3-no-sample-questions.json\")\n",
    "        \n",
    "        input_file_control = os.path.join(\"..\", \"..\", \"data\", \"main\", \"datasets\", \"control-test-prompts-rewritten-retrieved.json\")\n",
    "        output_file_control = os.path.join(\"..\", \"..\", \"data\", \"ablation\", \"complete_runs\", \"ablation-llama3-no-sample-questions-control.json\")\n",
    "        ablation_params[\"no_sample_questions\"] = True\n",
    "    elif what_to_ablate == \"one-shot\":\n",
    "        input_file_main = os.path.join(\"..\", \"..\", \"data\", \"main\", \"datasets\", \"test-prompts-rewritten-retrieved.json\")\n",
    "        output_file_main = os.path.join(\"..\", \"..\", \"data\", \"ablation\", \"complete_runs\", \"ablation-llama3-no-one-shot.json\")\n",
    "        input_file_control = os.path.join(\"..\", \"..\", \"data\", \"main\", \"datasets\", \"control-test-prompts-rewritten-retrieved.json\")\n",
    "        output_file_control = os.path.join(\"..\", \"..\", \"data\", \"ablation\", \"complete_runs\", \"ablation-llama3-no-one-shot-control.json\")\n",
    "        ablation_params[\"no_one_shot\"] = True\n",
    "    else: \n",
    "        raise Exception(\"You haven't specified a correct ablation to generate.\")\n",
    "\n",
    "    with open(input_file_control, 'r', encoding=\"utf-8\") as file:\n",
    "        data_control = json.load(file)\n",
    "        incomplete_pipeline_data_control = load_json_to_pipelinedata(data_control)\n",
    "\n",
    "    with open(input_file_main, 'r', encoding=\"utf-8\") as file:\n",
    "        data_main = json.load(file)\n",
    "        incomplete_pipeline_data_main = load_json_to_pipelinedata(data_main)\n",
    "\n",
    "    # # Run the ablation study using llama3-70b-8192 due to its success in the \n",
    "    res = run_data_through_generator(incomplete_pipeline_data_control, \"llama3-70b-8192\", ablation_params=ablation_params, verbose=False)\n",
    "    save_objects_as_json(res, output_file_control, rewrite=True)\n",
    "\n",
    "    def process_in_batches(data, batch_size, wait_time, output_file, model, ablation_params, verbose=False):\n",
    "        total_elements = len(data)\n",
    "        for i in range(0, total_elements, batch_size):\n",
    "\n",
    "            batch = data[i:i + batch_size]\n",
    "            res = run_data_through_generator(batch, model, ablation_params=ablation_params, verbose=verbose)\n",
    "            save_objects_as_json(res, output_file, rewrite=False)\n",
    "            if i + batch_size < total_elements:\n",
    "                print(\"Sleepy time...\")\n",
    "                time.sleep(wait_time)\n",
    "                print(\"Okay I'm back now...\")\n",
    "                print(f\"i={i}\")\n",
    "\n",
    "    process_in_batches(incomplete_pipeline_data_main, 30, 5, output_file_main, \"llama3-70b-8192\", ablation_params=ablation_params, verbose=False)\n"
   ]
  },
  {
   "cell_type": "markdown",
   "metadata": {},
   "source": [
    "## Ablation study automatic evaluation"
   ]
  },
  {
   "cell_type": "code",
   "execution_count": 8,
   "metadata": {},
   "outputs": [
    {
     "name": "stderr",
     "output_type": "stream",
     "text": [
      "Processing data from pipeline...: 100%|██████████| 30/30 [00:20<00:00,  1.47it/s]\n",
      "Processing data from pipeline...: 100%|██████████| 300/300 [03:14<00:00,  1.54it/s]\n",
      "Generating cosine similarities...: 100%|██████████| 30/30 [00:00<00:00, 4128.12it/s]\n",
      "Generating cosine similarities...: 100%|██████████| 300/300 [00:00<00:00, 5549.20it/s]\n",
      "Computing K-F1++ scores: 100%|██████████| 30/30 [00:00<00:00, 487.26it/s]\n",
      "Computing K-F1++ scores: 100%|██████████| 300/300 [00:00<00:00, 729.63it/s]\n"
     ]
    }
   ],
   "source": [
    "from evals.automatic.test_utils import extract_eval_data\n",
    "from evals.automatic.hit_ratio_and_mrr import compute_hit_ratio_and_mrr\n",
    "from evals.automatic.BERTscore import bertscore_computation_pipeline\n",
    "from evals.automatic.test_utils import append_to_file\n",
    "from evals.automatic.embedding_similarity import cosine_similarity_pipeline_from_stored_embeddings\n",
    "from evals.automatic.k_f1_plus_plus import compute_avg_kf1_score\n",
    "from evals.automatic.ragas import run_for_pipeline_5_7, compute_average_metrics_from_csv\n",
    "from bert_score import BERTScorer\n",
    "\n",
    "################################\n",
    "what_to_ablate = Literal[\"query-rewriter\", \"sparse-retriever\", \"reranker\", \"sample-questions\", \"one-shot\"] \n",
    "\n",
    "# What do you wish to exclude?\n",
    "what_to_ablate = \"one-shot\"\n",
    "################################\n",
    "\n",
    "# This is where we will store all results\n",
    "results_file = os.path.join(\"..\", \"..\", \"evals\", \"ablation\", \"results\", \"results.txt\")\n",
    "\n",
    "if what_to_ablate == \"query-rewriter\":\n",
    "    data_file_main = os.path.join(\"..\", \"..\", \"data\", \"ablation\", \"complete_runs\", \"ablation-llama3-no-query-rewrite.json\")\n",
    "    data_file_control = os.path.join(\"..\", \"..\", \"data\", \"ablation\", \"complete_runs\", \"ablation-llama3-no-query-rewrite-control.json\")\n",
    "elif what_to_ablate == \"sparse-retriever\":\n",
    "    data_file_main = os.path.join(\"..\", \"..\", \"data\", \"ablation\", \"complete_runs\", \"ablation-llama3-no-sparse-retriever.json\")\n",
    "    data_file_control = os.path.join(\"..\", \"..\", \"data\", \"ablation\", \"complete_runs\", \"ablation-llama3-no-sparse-retriever-control.json\")\n",
    "elif what_to_ablate == \"reranker\":\n",
    "    data_file_main = os.path.join(\"..\", \"..\", \"data\", \"ablation\", \"complete_runs\", \"ablation-llama3-no-reranker.json\")\n",
    "    data_file_control = os.path.join(\"..\", \"..\", \"data\", \"ablation\", \"complete_runs\", \"ablation-llama3-no-reranker-control.json\")\n",
    "elif what_to_ablate == \"sample-questions\":\n",
    "    data_file_main = os.path.join(\"..\", \"..\", \"data\", \"ablation\", \"complete_runs\", \"ablation-llama3-no-sample-questions.json\")\n",
    "    data_file_control = os.path.join(\"..\", \"..\", \"data\", \"ablation\", \"complete_runs\", \"ablation-llama3-no-sample-questions-control.json\")\n",
    "elif what_to_ablate == \"one-shot\":\n",
    "    data_file_main = os.path.join(\"..\", \"..\", \"data\", \"ablation\", \"complete_runs\", \"ablation-llama3-no-one-shot.json\")\n",
    "    data_file_control = os.path.join(\"..\", \"..\", \"data\", \"ablation\", \"complete_runs\", \"ablation-llama3-no-one-shot-control.json\")\n",
    "else: \n",
    "    raise Exception(\"You haven't specified a correct ablation to evaluate.\")\n",
    "\n",
    "# Extract the data to PipelineData format\n",
    "pipeline_data_main = extract_eval_data(data_file_main)\n",
    "pipeline_data_control = extract_eval_data(data_file_control)\n",
    "\n",
    "\"\"\"Compute the Hit Rate and MRR\"\"\"\n",
    "if what_to_ablate not in [\"sample-questions\", \"one-shot\"]:\n",
    "    # For control\n",
    "    _, hit_rate, mrr = compute_hit_ratio_and_mrr(pipeline_data_control)\n",
    "    append_to_file(results_file, f\"CONTROL-{what_to_ablate} Hit Rate: {hit_rate}\")\n",
    "    append_to_file(results_file, f\"CONTROL-{what_to_ablate} MRR: {mrr}\")\n",
    "\n",
    "    # For main\n",
    "    _, hit_rate, mrr = compute_hit_ratio_and_mrr(pipeline_data_main)\n",
    "    append_to_file(results_file, f\"MAIN-{what_to_ablate} Hit Rate: {hit_rate}\")\n",
    "    append_to_file(results_file, f\"MAIN-{what_to_ablate} MRR: {mrr}\")\n",
    "\n",
    "\"\"\"Compute BERTScore\"\"\"\n",
    "# BERTScore scorer\n",
    "scorer = BERTScorer(model_type='bert-base-uncased')\n",
    "_, P_content, R_content, F1_content, _, _, _ = bertscore_computation_pipeline(pipeline_data_control, scorer)\n",
    "append_to_file(results_file, f\"CONTROL-{what_to_ablate} BERTscore Precision: {P_content}, Recall: {R_content}, F1: {F1_content}\")\n",
    "_, P_content, R_content, F1_content, _, _, _ = bertscore_computation_pipeline(pipeline_data_main, scorer)\n",
    "append_to_file(results_file, f\"MAIN-{what_to_ablate} BERTscore Precision: {P_content}, Recall: {R_content}, F1: {F1_content}\")\n",
    "\n",
    "\"\"\"Compute Embedding Similarity\"\"\"\n",
    "_, similarity_content, _ = cosine_similarity_pipeline_from_stored_embeddings(pipeline_data_control)\n",
    "append_to_file(results_file, f\"CONTROL-{what_to_ablate} all-MiniLM-l6-v2 Cosine Similarity: {similarity_content}\")\n",
    "_, similarity_content, _ = cosine_similarity_pipeline_from_stored_embeddings(pipeline_data_main)\n",
    "append_to_file(results_file, f\"MAIN-{what_to_ablate} all-MiniLM-l6-v2 Cosine Similarity: {similarity_content}\")\n",
    "\n",
    "\"\"\"Compute K-F1++\"\"\"\n",
    "avg_kf1_score_content, _, avg_precision_score_content, _, avg_recall_score_content, _ = compute_avg_kf1_score(pipeline_data_control)\n",
    "append_to_file(results_file, f\"CONTROL-{what_to_ablate} K-F1++: {avg_kf1_score_content}, Precision: {avg_precision_score_content} Recall: {avg_recall_score_content}\")\n",
    "avg_kf1_score_content, _, avg_precision_score_content, _, avg_recall_score_content, _ = compute_avg_kf1_score(pipeline_data_main)\n",
    "append_to_file(results_file, f\"MAIN-{what_to_ablate} K-F1++: {avg_kf1_score_content}, Precision: {avg_precision_score_content} Recall: {avg_recall_score_content}\")\n",
    "    "
   ]
  },
  {
   "cell_type": "code",
   "execution_count": null,
   "metadata": {},
   "outputs": [],
   "source": [
    "\"\"\"Compute RAGAS metrics\"\"\"\n",
    "if what_to_ablate not in [\"sample-questions\", \"one-shot\"]:\n",
    "    # compute G, AR, CR, and RCR\n",
    "\n",
    "    # TODO: I should run this in snippets to in case it crashes somewhere\n",
    "    df = run_for_pipeline_5_7(extract_eval_data, get_context_relevance=False)\n",
    "\n",
    "    # Append the DataFrame to the existing CSV file\n",
    "    # df.to_csv(csv_file_ragas)\n",
    "    # df.to_csv(csv_file_ragas, mode='a', index=False, header=False) # set index=False\n",
    "\n",
    "    \"\"\"\n",
    "    Here I compute the metric averages and store them in the results file\n",
    "    \"\"\"\n",
    "\n",
    "    # Columns to calculate the mean\n",
    "    columns_to_average = ['answer_relevancy', '']  # Specify the columns you want to average\n",
    "\n",
    "    average_ar = compute_average_metrics_from_csv(df, columns_to_average)\n",
    "    \n",
    "    append_to_file(results_file, f\"Pipeline (1) RAGAS Answer Relevancy Control: {average_ar}\")\n",
    "else:\n",
    "    # compute G, AR, RCR\n",
    "    pass"
   ]
  }
 ],
 "metadata": {
  "kernelspec": {
   "display_name": ".venv",
   "language": "python",
   "name": "python3"
  },
  "language_info": {
   "codemirror_mode": {
    "name": "ipython",
    "version": 3
   },
   "file_extension": ".py",
   "mimetype": "text/x-python",
   "name": "python",
   "nbconvert_exporter": "python",
   "pygments_lexer": "ipython3",
   "version": "3.11.6"
  }
 },
 "nbformat": 4,
 "nbformat_minor": 2
}
