{
 "cells": [
  {
   "cell_type": "code",
   "execution_count": 1,
   "metadata": {},
   "outputs": [],
   "source": [
    "from dotenv import load_dotenv\n",
    "import os\n",
    "\n",
    "load_dotenv()\n",
    "DATA_DIR = os.getenv(\"DATA_DIR_PATH\")"
   ]
  },
  {
   "cell_type": "markdown",
   "metadata": {},
   "source": [
    "# Generate set of questions to run multi-dimension qualtrics survey on"
   ]
  },
  {
   "cell_type": "code",
   "execution_count": 27,
   "metadata": {},
   "outputs": [],
   "source": [
    "import json\n",
    "import random\n",
    "\n",
    "# Adjust paths as necessary\n",
    "input_file_path = \"../../data/datasets/main/test-prompts.json\"  # Path where the query data is stored\n",
    "output_file_path = \"../../evals/human/multi-dimension-queries.json\"\n",
    "\n",
    "# Read data from JSON file\n",
    "\n",
    "with open(input_file_path, 'r') as file:\n",
    "    data = json.load(file)"
   ]
  },
  {
   "cell_type": "code",
   "execution_count": 28,
   "metadata": {},
   "outputs": [],
   "source": [
    "\n",
    "# Create a dictionary to store filtered exercises by type\n",
    "filtered = {\n",
    "    'short-answer': [],\n",
    "    'true-false': [],\n",
    "    'long-answer': []\n",
    "}\n",
    "\n",
    "# Filter data into categories\n",
    "for item in data:\n",
    "    exercise_type = item['requested_exercise_format']\n",
    "    if exercise_type in filtered:\n",
    "        filtered[exercise_type].append(item)\n",
    "\n",
    "# Select random samples from each category\n",
    "selected_exercises = {}\n",
    "for key, items in filtered.items():\n",
    "    if len(items) >= 4:  # Check if there are enough items to sample from\n",
    "        selected_exercises[key] = random.sample(items, 4)\n",
    "    else:\n",
    "        selected_exercises[key] = items  # Take all if less than num_samples"
   ]
  },
  {
   "cell_type": "code",
   "execution_count": 29,
   "metadata": {},
   "outputs": [],
   "source": [
    "with open(output_file_path, 'w') as file:\n",
    "    json.dump(selected_exercises, file, indent=4)"
   ]
  },
  {
   "cell_type": "markdown",
   "metadata": {},
   "source": [
    "# Connect the results of the runs to the selected queries"
   ]
  },
  {
   "cell_type": "code",
   "execution_count": 32,
   "metadata": {},
   "outputs": [
    {
     "name": "stdout",
     "output_type": "stream",
     "text": [
      "Results written to ../../evals/human/multi-dimension-queries-pipeline-gpt-3-5.json\n"
     ]
    }
   ],
   "source": [
    "# Define file paths\n",
    "from utils import find_responses\n",
    "\n",
    "first_file_path = '../../evals/human/multi-dimension-queries.json'  # Update with actual path\n",
    "second_file_path = '../../data/complete_runs/5-pipeline-gpt-3-5.json'  # Update with actual path\n",
    "output_file_path = '../../evals/human/multi-dimension-queries-pipeline-gpt-3-5.json'  # Path for the output JSON file\n",
    "\n",
    "# Execute the function\n",
    "find_responses(first_file_path, second_file_path, output_file_path)"
   ]
  },
  {
   "cell_type": "markdown",
   "metadata": {},
   "source": [
    "# Merge and shuffle the files"
   ]
  },
  {
   "cell_type": "code",
   "execution_count": 1,
   "metadata": {},
   "outputs": [
    {
     "name": "stdout",
     "output_type": "stream",
     "text": [
      "Merged and shuffled data written to ../../evals/human/multi-dimension-survey.json\n"
     ]
    }
   ],
   "source": [
    "# List of file paths to merge\n",
    "from utils import merge_and_shuffle_json_files\n",
    "\n",
    "\n",
    "json_file_paths = [\n",
    "    '../../evals/human/multi-dimension-queries-baseline-gpt-3-5.json', \n",
    "    '../../evals/human/multi-dimension-queries-assistant-gpt-3-5.json',\n",
    "    '../../evals/human/multi-dimension-queries-pipeline-gpt-3-5.json'  \n",
    "]\n",
    "\n",
    "# Output file path\n",
    "output_file_path = '../../evals/human/multi-dimension-survey.json'  # Update with the desired output path\n",
    "\n",
    "# Execute the merging and shuffling\n",
    "merge_and_shuffle_json_files(json_file_paths, output_file_path)"
   ]
  },
  {
   "cell_type": "markdown",
   "metadata": {},
   "source": [
    "# Generate set of questions to run pairwise comparison on"
   ]
  },
  {
   "cell_type": "code",
   "execution_count": 10,
   "metadata": {},
   "outputs": [],
   "source": [
    "import json\n",
    "import random\n",
    "\n",
    "# Adjust paths as necessary\n",
    "input_file_path = \"../../data/datasets/main/test-prompts.json\"  # Path where the query data is stored\n",
    "output_file_path_pairwise = \"../../evals/human/pairwise-comparison/pairwise-comparison-queries.json\"\n",
    "exclusion_data_file = \"../../evals/human/multi-dimension/multi-dimension-queries.json\"\n",
    "\n",
    "# Read data from JSON file\n",
    "\n",
    "with open(input_file_path, 'r') as file:\n",
    "    data = json.load(file)\n",
    "\n",
    "with open(exclusion_data_file, 'r') as file:\n",
    "    ex_data = json.load(file)"
   ]
  },
  {
   "cell_type": "code",
   "execution_count": 11,
   "metadata": {},
   "outputs": [],
   "source": [
    "from utils import filter_excluded\n",
    "filtered_data = filter_excluded(data, ex_data)\n",
    "selected_exercises = {}\n",
    "for key, items in filtered_data.items():\n",
    "    if len(items) >= 4:\n",
    "        selected_exercises[key] = random.sample(items, 4)\n",
    "    else:\n",
    "        selected_exercises[key] = items"
   ]
  },
  {
   "cell_type": "code",
   "execution_count": 12,
   "metadata": {},
   "outputs": [],
   "source": [
    "# Flatten the selected exercises into a single list for output\n",
    "final_selected_queries = []\n",
    "for key in selected_exercises:\n",
    "    final_selected_queries.extend(selected_exercises[key])"
   ]
  },
  {
   "cell_type": "code",
   "execution_count": 13,
   "metadata": {},
   "outputs": [],
   "source": [
    "with open(output_file_path_pairwise, 'w') as file:\n",
    "    json.dump(selected_exercises, file, indent=4)"
   ]
  },
  {
   "cell_type": "markdown",
   "metadata": {},
   "source": [
    "# Connect the runs to the selected pairwise comparison queries"
   ]
  },
  {
   "cell_type": "code",
   "execution_count": 4,
   "metadata": {},
   "outputs": [
    {
     "name": "stdout",
     "output_type": "stream",
     "text": [
      "{'Can you make a short defining question about the significance of tourism in Tanzania?': {'query': 'Can you make a short defining question about the significance of tourism in Tanzania?', 'human_response': 'Define employment and provide an example of how tourism increases the employment rate in Tanzania.', 'requested_exercise_format': 'short-answer', 'topic': \"Tourism's significance in Tanzania\", 'exercise_type': 'short-answer'}, 'Hello, can u generate a short-answer question regarding the different types of human activities for my form two students?': {'query': 'Hello, can u generate a short-answer question regarding the different types of human activities for my form two students?', 'human_response': 'List the three major categories of human activities.', 'requested_exercise_format': 'short-answer', 'topic': 'Varieties of human activities', 'exercise_type': 'short-answer'}, 'Hello, please provide a short definition exercise about issues in livestock farming for my class.': {'query': 'Hello, please provide a short definition exercise about issues in livestock farming for my class.', 'human_response': 'Define the term over-grazing and give an example of what it might lead to.', 'requested_exercise_format': 'short-answer', 'topic': 'livestock farming issues', 'exercise_type': 'short-answer'}, 'Give me question about on problems in tourism industry in Tanzania that need short answer': {'query': 'Give me question about on problems in tourism industry in Tanzania that need short answer', 'human_response': 'Give an example of a negative impact of tourism in Tanzania.', 'requested_exercise_format': 'short-answer', 'topic': 'Tourism industry problems in Tanzania', 'exercise_type': 'short-answer'}, 'Can you create a true or false statement question about the benefits of natural gas in Tanzania?': {'query': 'Can you create a true or false statement question about the benefits of natural gas in Tanzania?', 'human_response': 'Natural gas is used to cool down homes in Tanzania.', 'requested_exercise_format': 'true-false', 'topic': 'Benefits of natural gas in Tanzania', 'exercise_type': 'true-false'}, 'get a true or false statement about comparisons in livestock farming between Tanzania and Australia for form two classwork': {'query': 'get a true or false statement about comparisons in livestock farming between Tanzania and Australia for form two classwork', 'human_response': 'True or false: Dairy farming is a common practice in both Tanzania and Australia.', 'requested_exercise_format': 'true-false', 'topic': 'Contrasts in livestock farming between Tanzania and Australia', 'exercise_type': 'true-false'}, 'need right or wrong statement on transhumance practices for my form 2 class': {'query': 'need right or wrong statement on transhumance practices for my form 2 class', 'human_response': 'True/False: Transhumance refers to the seasonal movement of livestock between different grazing grounds.', 'requested_exercise_format': 'true-false', 'topic': 'Transhumance practices', 'exercise_type': 'true-false'}, 'Please I need true or false statement about metal extraction sector for our students to work on.': {'query': 'Please I need true or false statement about metal extraction sector for our students to work on.', 'human_response': 'Crushed stone is one of the metallic minerals extracted in the mining sector.', 'requested_exercise_format': 'true-false', 'topic': 'Metal extraction sector', 'exercise_type': 'true-false'}, 'Can you make up a describing question about water sources for my students to answer in detail?': {'query': 'Can you make up a describing question about water sources for my students to answer in detail?', 'human_response': 'Outline and explain the five steps of the hydrological cycle.', 'requested_exercise_format': 'long-answer', 'topic': 'Water sources', 'exercise_type': 'long-answer'}, 'I need a detailed question for form two students to explain how to improve tourist access to attractions': {'query': 'I need a detailed question for form two students to explain how to improve tourist access to attractions', 'human_response': 'Why are good infrastructure and accomodation important to increase tourism?', 'requested_exercise_format': 'long-answer', 'topic': 'Enhancing tourist access to attractions', 'exercise_type': 'long-answer'}, 'hello, I need to give my students a deep explanation question on cultivation techniques for sisal': {'query': 'hello, I need to give my students a deep explanation question on cultivation techniques for sisal', 'human_response': 'Name the temperature and rainfall conditions necessary for growing sisal and explain why they are important.', 'requested_exercise_format': 'long-answer', 'topic': 'Cultivation techniques for sisal', 'exercise_type': 'long-answer'}, 'Need a long explanation question about ocean water for Form 2 Geography.': {'query': 'Need a long explanation question about ocean water for Form 2 Geography.', 'human_response': 'Explain how large water bodies contribute to the majority of the moisture in the atmosphere.', 'requested_exercise_format': 'long-answer', 'topic': 'Ocean water', 'exercise_type': 'long-answer'}}\n",
      "Results written to ../../evals/human/pairwise-comparison/pairwise-comparison-queries-pipeline-gpt-3-5.json\n"
     ]
    }
   ],
   "source": [
    "# Define file paths\n",
    "from utils import find_responses\n",
    "\n",
    "first_file_path = '../../evals/human/pairwise-comparison/pairwise-comparison-queries.json'  # Update with actual path\n",
    "second_file_path = '../../data/complete_runs/5-pipeline-gpt-3-5.json'  # Update with actual path\n",
    "output_file_path = '../../evals/human/pairwise-comparison/pairwise-comparison-queries-pipeline-gpt-3-5.json'  # Path for the output JSON file\n",
    "\n",
    "# Execute the function\n",
    "find_responses(first_file_path, second_file_path, output_file_path)"
   ]
  },
  {
   "cell_type": "markdown",
   "metadata": {},
   "source": [
    "# Merge and shuffle the files"
   ]
  },
  {
   "cell_type": "code",
   "execution_count": 5,
   "metadata": {},
   "outputs": [
    {
     "name": "stdout",
     "output_type": "stream",
     "text": [
      "Merged and shuffled data written to ../../evals/human/pairwise-comparison/pairwise-comparison-survey.json\n"
     ]
    }
   ],
   "source": [
    "# List of file paths to merge\n",
    "from utils import merge_and_shuffle_json_files\n",
    "\n",
    "\n",
    "json_file_paths = [\n",
    "    '../../evals/human/pairwise-comparison/pairwise-comparison-queries-pipeline-gpt-3-5.json', \n",
    "    '../../evals/human/pairwise-comparison/pairwise-comparison-queries-pipeline-gpt-4.json',\n",
    "    '../../evals/human/pairwise-comparison/pairwise-comparison-queries-pipeline-llama3.json'  \n",
    "]\n",
    "\n",
    "# Output file path\n",
    "output_file_path = '../../evals/human/pairwise-comparison/pairwise-comparison-survey.json'  # Update with the desired output path\n",
    "\n",
    "# Execute the merging and shuffling\n",
    "merge_and_shuffle_json_files(json_file_paths, output_file_path)"
   ]
  },
  {
   "cell_type": "markdown",
   "metadata": {},
   "source": [
    "# Split into 3 separate surveys"
   ]
  },
  {
   "cell_type": "code",
   "execution_count": 6,
   "metadata": {},
   "outputs": [
    {
     "name": "stdout",
     "output_type": "stream",
     "text": [
      "Data written to ../../evals/human/pairwise-comparison/pairwise-comparison-survey-part-1.json\n",
      "Data written to ../../evals/human/pairwise-comparison/pairwise-comparison-survey-part-2.json\n",
      "Data written to ../../evals/human/pairwise-comparison/pairwise-comparison-survey-part-3.json\n"
     ]
    }
   ],
   "source": [
    "from utils import read_json, split_and_save_json\n",
    "# Define file paths\n",
    "input_file_path = '../../evals/human/pairwise-comparison/pairwise-comparison-survey.json'  # Update with your actual file path\n",
    "base_output_path = '../../evals/human/pairwise-comparison/pairwise-comparison-survey'  # Base path for output files\n",
    "\n",
    "# Read data from the input JSON file\n",
    "data = read_json(input_file_path)\n",
    "\n",
    "# Split the data into 3 parts and save to separate files\n",
    "split_and_save_json(data, base_output_path)"
   ]
  }
 ],
 "metadata": {
  "kernelspec": {
   "display_name": ".venv",
   "language": "python",
   "name": "python3"
  },
  "language_info": {
   "codemirror_mode": {
    "name": "ipython",
    "version": 3
   },
   "file_extension": ".py",
   "mimetype": "text/x-python",
   "name": "python",
   "nbconvert_exporter": "python",
   "pygments_lexer": "ipython3",
   "version": "3.11.6"
  }
 },
 "nbformat": 4,
 "nbformat_minor": 2
}
