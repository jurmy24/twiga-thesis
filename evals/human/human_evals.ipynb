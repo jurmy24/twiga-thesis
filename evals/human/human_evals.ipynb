{
 "cells": [
  {
   "cell_type": "code",
   "execution_count": 1,
   "metadata": {},
   "outputs": [],
   "source": [
    "from dotenv import load_dotenv\n",
    "import os\n",
    "\n",
    "load_dotenv()\n",
    "DATA_DIR = os.getenv(\"DATA_DIR_PATH\")"
   ]
  },
  {
   "cell_type": "markdown",
   "metadata": {},
   "source": [
    "# Generate set of questions to run multi-dimension qualtrics survey on"
   ]
  },
  {
   "cell_type": "code",
   "execution_count": 6,
   "metadata": {},
   "outputs": [],
   "source": [
    "import json\n",
    "import random\n",
    "\n",
    "# Adjust paths as necessary\n",
    "input_file_path = \"../../data/datasets/main/test-prompts.json\"  # Path where the query data is stored\n",
    "output_file_path = \"../../evals/human/multi-dimension-queries.json\"\n",
    "\n",
    "# Read data from JSON file\n",
    "\n",
    "with open(input_file_path, 'r') as file:\n",
    "    data = json.load(file)"
   ]
  },
  {
   "cell_type": "code",
   "execution_count": 7,
   "metadata": {},
   "outputs": [],
   "source": [
    "\n",
    "# Create a dictionary to store filtered exercises by type\n",
    "filtered = {\n",
    "    'short-answer': [],\n",
    "    'true-false': [],\n",
    "    'long-answer': []\n",
    "}\n",
    "\n",
    "# Filter data into categories\n",
    "for item in data:\n",
    "    exercise_type = item['requested_exercise_format']\n",
    "    if exercise_type in filtered:\n",
    "        filtered[exercise_type].append(item)\n",
    "\n",
    "# Select random samples from each category\n",
    "selected_exercises = {}\n",
    "for key, items in filtered.items():\n",
    "    if len(items) >= 5:  # Check if there are enough items to sample from\n",
    "        selected_exercises[key] = random.sample(items, 5)\n",
    "    else:\n",
    "        selected_exercises[key] = items  # Take all if less than num_samples"
   ]
  },
  {
   "cell_type": "code",
   "execution_count": 8,
   "metadata": {},
   "outputs": [],
   "source": [
    "with open(output_file_path, 'w') as file:\n",
    "    json.dump(selected_exercises, file, indent=4)"
   ]
  },
  {
   "cell_type": "markdown",
   "metadata": {},
   "source": [
    "# Connect the results of the runs to the selected queries"
   ]
  },
  {
   "cell_type": "code",
   "execution_count": 13,
   "metadata": {},
   "outputs": [
    {
     "name": "stdout",
     "output_type": "stream",
     "text": [
      "Results written to ../../evals/human/multi-dimension-queries-assistant-gpt-3-5.json\n"
     ]
    }
   ],
   "source": [
    "# Define file paths\n",
    "from utils import find_responses\n",
    "\n",
    "first_file_path = '../../evals/human/multi-dimension-queries.json'  # Update with actual path\n",
    "second_file_path = '../../data/complete_runs/5-pipeline-gpt-3-5.json'  # Update with actual path\n",
    "output_file_path = '../../evals/human/multi-dimension-queries-pipeline-gpt-3-5.json'  # Path for the output JSON file\n",
    "\n",
    "# Execute the function\n",
    "find_responses(first_file_path, second_file_path, output_file_path)"
   ]
  }
 ],
 "metadata": {
  "kernelspec": {
   "display_name": ".venv",
   "language": "python",
   "name": "python3"
  },
  "language_info": {
   "codemirror_mode": {
    "name": "ipython",
    "version": 3
   },
   "file_extension": ".py",
   "mimetype": "text/x-python",
   "name": "python",
   "nbconvert_exporter": "python",
   "pygments_lexer": "ipython3",
   "version": "3.11.6"
  }
 },
 "nbformat": 4,
 "nbformat_minor": 2
}
