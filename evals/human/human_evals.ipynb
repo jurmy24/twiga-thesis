{
 "cells": [
  {
   "cell_type": "code",
   "execution_count": 1,
   "metadata": {},
   "outputs": [],
   "source": [
    "from dotenv import load_dotenv\n",
    "import os\n",
    "\n",
    "load_dotenv()\n",
    "DATA_DIR = os.getenv(\"DATA_DIR_PATH\")"
   ]
  },
  {
   "cell_type": "markdown",
   "metadata": {},
   "source": [
    "# Generate set of questions to run multi-dimension qualtrics survey on"
   ]
  },
  {
   "cell_type": "code",
   "execution_count": 27,
   "metadata": {},
   "outputs": [],
   "source": [
    "import json\n",
    "import random\n",
    "\n",
    "# Adjust paths as necessary\n",
    "input_file_path = \"../../data/datasets/main/test-prompts.json\"  # Path where the query data is stored\n",
    "output_file_path = \"../../evals/human/multi-dimension-queries.json\"\n",
    "\n",
    "# Read data from JSON file\n",
    "\n",
    "with open(input_file_path, 'r') as file:\n",
    "    data = json.load(file)"
   ]
  },
  {
   "cell_type": "code",
   "execution_count": 28,
   "metadata": {},
   "outputs": [],
   "source": [
    "\n",
    "# Create a dictionary to store filtered exercises by type\n",
    "filtered = {\n",
    "    'short-answer': [],\n",
    "    'true-false': [],\n",
    "    'long-answer': []\n",
    "}\n",
    "\n",
    "# Filter data into categories\n",
    "for item in data:\n",
    "    exercise_type = item['requested_exercise_format']\n",
    "    if exercise_type in filtered:\n",
    "        filtered[exercise_type].append(item)\n",
    "\n",
    "# Select random samples from each category\n",
    "selected_exercises = {}\n",
    "for key, items in filtered.items():\n",
    "    if len(items) >= 4:  # Check if there are enough items to sample from\n",
    "        selected_exercises[key] = random.sample(items, 4)\n",
    "    else:\n",
    "        selected_exercises[key] = items  # Take all if less than num_samples"
   ]
  },
  {
   "cell_type": "code",
   "execution_count": 29,
   "metadata": {},
   "outputs": [],
   "source": [
    "with open(output_file_path, 'w') as file:\n",
    "    json.dump(selected_exercises, file, indent=4)"
   ]
  },
  {
   "cell_type": "markdown",
   "metadata": {},
   "source": [
    "# Connect the results of the runs to the selected queries"
   ]
  },
  {
   "cell_type": "code",
   "execution_count": 32,
   "metadata": {},
   "outputs": [
    {
     "name": "stdout",
     "output_type": "stream",
     "text": [
      "Results written to ../../evals/human/multi-dimension-queries-pipeline-gpt-3-5.json\n"
     ]
    }
   ],
   "source": [
    "# Define file paths\n",
    "from utils import find_responses\n",
    "\n",
    "first_file_path = '../../evals/human/multi-dimension-queries.json'  # Update with actual path\n",
    "second_file_path = '../../data/complete_runs/5-pipeline-gpt-3-5.json'  # Update with actual path\n",
    "output_file_path = '../../evals/human/multi-dimension-queries-pipeline-gpt-3-5.json'  # Path for the output JSON file\n",
    "\n",
    "# Execute the function\n",
    "find_responses(first_file_path, second_file_path, output_file_path)"
   ]
  },
  {
   "cell_type": "markdown",
   "metadata": {},
   "source": [
    "# Merge and shuffle the files"
   ]
  },
  {
   "cell_type": "code",
   "execution_count": 1,
   "metadata": {},
   "outputs": [
    {
     "name": "stdout",
     "output_type": "stream",
     "text": [
      "Merged and shuffled data written to ../../evals/human/multi-dimension-survey.json\n"
     ]
    }
   ],
   "source": [
    "# List of file paths to merge\n",
    "from utils import merge_and_shuffle_json_files\n",
    "\n",
    "\n",
    "json_file_paths = [\n",
    "    '../../evals/human/multi-dimension-queries-baseline-gpt-3-5.json', \n",
    "    '../../evals/human/multi-dimension-queries-assistant-gpt-3-5.json',\n",
    "    '../../evals/human/multi-dimension-queries-pipeline-gpt-3-5.json'  \n",
    "]\n",
    "\n",
    "# Output file path\n",
    "output_file_path = '../../evals/human/multi-dimension-survey.json'  # Update with the desired output path\n",
    "\n",
    "# Execute the merging and shuffling\n",
    "merge_and_shuffle_json_files(json_file_paths, output_file_path)"
   ]
  },
  {
   "cell_type": "markdown",
   "metadata": {},
   "source": [
    "# Generate set of questions to run pairwise comparison on"
   ]
  },
  {
   "cell_type": "code",
   "execution_count": 10,
   "metadata": {},
   "outputs": [],
   "source": [
    "import json\n",
    "import random\n",
    "\n",
    "# Adjust paths as necessary\n",
    "input_file_path = \"../../data/datasets/main/test-prompts.json\"  # Path where the query data is stored\n",
    "output_file_path_pairwise = \"../../evals/human/pairwise-comparison/pairwise-comparison-queries.json\"\n",
    "exclusion_data_file = \"../../evals/human/multi-dimension/multi-dimension-queries.json\"\n",
    "\n",
    "# Read data from JSON file\n",
    "\n",
    "with open(input_file_path, 'r') as file:\n",
    "    data = json.load(file)\n",
    "\n",
    "with open(exclusion_data_file, 'r') as file:\n",
    "    ex_data = json.load(file)"
   ]
  },
  {
   "cell_type": "code",
   "execution_count": 11,
   "metadata": {},
   "outputs": [],
   "source": [
    "from utils import filter_excluded\n",
    "filtered_data = filter_excluded(data, ex_data)\n",
    "selected_exercises = {}\n",
    "for key, items in filtered_data.items():\n",
    "    if len(items) >= 4:\n",
    "        selected_exercises[key] = random.sample(items, 4)\n",
    "    else:\n",
    "        selected_exercises[key] = items"
   ]
  },
  {
   "cell_type": "code",
   "execution_count": 12,
   "metadata": {},
   "outputs": [],
   "source": [
    "# Flatten the selected exercises into a single list for output\n",
    "final_selected_queries = []\n",
    "for key in selected_exercises:\n",
    "    final_selected_queries.extend(selected_exercises[key])"
   ]
  },
  {
   "cell_type": "code",
   "execution_count": 13,
   "metadata": {},
   "outputs": [],
   "source": [
    "with open(output_file_path_pairwise, 'w') as file:\n",
    "    json.dump(selected_exercises, file, indent=4)"
   ]
  },
  {
   "cell_type": "markdown",
   "metadata": {},
   "source": [
    "# Connect the runs to the selected pairwise comparison queries"
   ]
  },
  {
   "cell_type": "code",
   "execution_count": 16,
   "metadata": {},
   "outputs": [
    {
     "name": "stdout",
     "output_type": "stream",
     "text": [
      "Results written to ../../evals/human/pairwise-comparison/pairwise-comparison-queries-pipeline-llama3.json\n"
     ]
    }
   ],
   "source": [
    "# Define file paths\n",
    "from utils import find_responses\n",
    "\n",
    "first_file_path = '../../evals/human/pairwise-comparison/pairwise-comparison-queries.json'  # Update with actual path\n",
    "second_file_path = '../../data/complete_runs/7-pipeline-llama3.json'  # Update with actual path\n",
    "output_file_path = '../../evals/human/pairwise-comparison/pairwise-comparison-queries-pipeline-llama3.json'  # Path for the output JSON file\n",
    "\n",
    "# Execute the function\n",
    "find_responses(first_file_path, second_file_path, output_file_path)"
   ]
  },
  {
   "cell_type": "markdown",
   "metadata": {},
   "source": [
    "# Merge and shuffle the files"
   ]
  },
  {
   "cell_type": "code",
   "execution_count": 18,
   "metadata": {},
   "outputs": [
    {
     "name": "stdout",
     "output_type": "stream",
     "text": [
      "Merged and shuffled data written to ../../evals/human/pairwise-comparison/pairwise-comparison-survey.json\n"
     ]
    }
   ],
   "source": [
    "# List of file paths to merge\n",
    "from utils import merge_and_shuffle_json_files\n",
    "\n",
    "\n",
    "json_file_paths = [\n",
    "    '../../evals/human/pairwise-comparison/pairwise-comparison-queries-pipeline-gpt-3-5.json', \n",
    "    '../../evals/human/pairwise-comparison/pairwise-comparison-queries-pipeline-gpt-4.json',\n",
    "    '../../evals/human/pairwise-comparison/pairwise-comparison-queries-pipeline-llama3.json'  \n",
    "]\n",
    "\n",
    "# Output file path\n",
    "output_file_path = '../../evals/human/pairwise-comparison/pairwise-comparison-survey.json'  # Update with the desired output path\n",
    "\n",
    "# Execute the merging and shuffling\n",
    "merge_and_shuffle_json_files(json_file_paths, output_file_path)"
   ]
  },
  {
   "cell_type": "markdown",
   "metadata": {},
   "source": [
    "# Split into 3 separate surveys"
   ]
  },
  {
   "cell_type": "code",
   "execution_count": 1,
   "metadata": {},
   "outputs": [
    {
     "name": "stdout",
     "output_type": "stream",
     "text": [
      "Data written to ../../evals/human/pairwise-comparison/pairwise-comparison-survey-part-1.json\n",
      "Data written to ../../evals/human/pairwise-comparison/pairwise-comparison-survey-part-2.json\n",
      "Data written to ../../evals/human/pairwise-comparison/pairwise-comparison-survey-part-3.json\n"
     ]
    }
   ],
   "source": [
    "from utils import read_json, split_and_save_json\n",
    "# Define file paths\n",
    "input_file_path = '../../evals/human/pairwise-comparison/pairwise-comparison-survey.json'  # Update with your actual file path\n",
    "base_output_path = '../../evals/human/pairwise-comparison/pairwise-comparison-survey'  # Base path for output files\n",
    "\n",
    "# Read data from the input JSON file\n",
    "data = read_json(input_file_path)\n",
    "\n",
    "# Split the data into 3 parts and save to separate files\n",
    "split_and_save_json(data, base_output_path)"
   ]
  }
 ],
 "metadata": {
  "kernelspec": {
   "display_name": ".venv",
   "language": "python",
   "name": "python3"
  },
  "language_info": {
   "codemirror_mode": {
    "name": "ipython",
    "version": 3
   },
   "file_extension": ".py",
   "mimetype": "text/x-python",
   "name": "python",
   "nbconvert_exporter": "python",
   "pygments_lexer": "ipython3",
   "version": "3.11.6"
  }
 },
 "nbformat": 4,
 "nbformat_minor": 2
}
