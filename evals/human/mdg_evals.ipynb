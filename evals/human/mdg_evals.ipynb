{
 "cells": [
  {
   "cell_type": "markdown",
   "metadata": {},
   "source": [
    "# Compute MDG survey results\n",
    "\n",
    "This document will allow us to compute the MDG averages from the users and Krippendorf's alpha between them."
   ]
  },
  {
   "cell_type": "code",
   "execution_count": 58,
   "metadata": {},
   "outputs": [],
   "source": [
    "import pandas as pd\n",
    "import json\n",
    "import uuid"
   ]
  },
  {
   "cell_type": "code",
   "execution_count": 59,
   "metadata": {},
   "outputs": [],
   "source": [
    "# data paths\n",
    "csv_mdg_1_path = \"../../evals/human/multi-dimension/results/twiga-mdg-1.csv\"\n",
    "csv_mdg_2_path = \"../../evals/human/multi-dimension/results/twiga-mdg-2.csv\"\n",
    "csv_mdg_3_path = \"../../evals/human/multi-dimension/results/twiga-mdg-3.csv\"\n",
    "json_mdg_path = \"../../evals/human/multi-dimension/multi-dimension-survey.json\""
   ]
  },
  {
   "cell_type": "markdown",
   "metadata": {},
   "source": [
    "## Convert the question list to a DataFrame per questionnaire"
   ]
  },
  {
   "cell_type": "code",
   "execution_count": 60,
   "metadata": {},
   "outputs": [],
   "source": [
    "\"\"\"Read JSON file of queries into three separate mdg survey dataframes\"\"\"\n",
    "with open(json_mdg_path, 'r') as file:\n",
    "    data = json.load(file)\n",
    "\n",
    "# Extract the relevant information and store it in a dictionary\n",
    "mdg_queries_1_df = pd.DataFrame(data[0:12])\n",
    "mdg_queries_2_df = pd.DataFrame(data[12:24])\n",
    "mdg_queries_3_df = pd.DataFrame(data[24:36])\n",
    "\n",
    "verbose = False\n",
    "if verbose:\n",
    "    print(mdg_queries_1_df.columns)\n",
    "    print(mdg_queries_2_df.columns)\n",
    "    print(mdg_queries_3_df.columns)\n",
    "\n",
    "    print(len(mdg_queries_1_df))\n",
    "    print(len(mdg_queries_2_df))\n",
    "    print(len(mdg_queries_3_df))\n"
   ]
  },
  {
   "cell_type": "markdown",
   "metadata": {},
   "source": [
    "## Convert the multi-dimension surveys into DataFrames"
   ]
  },
  {
   "cell_type": "code",
   "execution_count": 62,
   "metadata": {},
   "outputs": [],
   "source": [
    "# Read the CSV file into a DataFrame, skipping two unnecessary rows\n",
    "\n",
    "mdg_responses_1_df = pd.read_csv(csv_mdg_1_path, skiprows=[1,2])\n",
    "mdg_responses_2_df = pd.read_csv(csv_mdg_2_path, skiprows=[1,2])\n",
    "mdg_responses_3_df = pd.read_csv(csv_mdg_3_path, skiprows=[1,2])\n",
    "\n",
    "# Assuming the first column is 'Name' and subsequent columns are responses\n",
    "name_column = mdg_responses_2_df.columns[17]  # The title of the name column\n",
    "sanity_check_columns = mdg_responses_2_df.columns[21:30] # TODO: get the actual query-response pair I made manually and show them somewhere along with these (can put in appendix)\n",
    "response_columns = mdg_responses_2_df.columns[30:66] # The titles of the question columns and associated responses\n",
    "\n",
    "def fill_data(mdg_df: pd.DataFrame, num_respondents:int) -> pd.DataFrame:\n",
    "    data_dict = {\n",
    "        \"question_number\": [\"Q3\",\"Q4\",\"Q5\",\"Q6\",\"Q7\",\"Q8\",\"Q9\",\"Q10\",\"Q11\",\"Q12\",\"Q13\",\"Q14\"]*num_respondents,\n",
    "        \"respondent\": [],\n",
    "        \"answer_relevance\": [],\n",
    "        \"formulation\": [],\n",
    "        \"suitability\": []\n",
    "    }\n",
    "    for _, row in mdg_df.iterrows():\n",
    "        name = row[name_column]\n",
    "        name = uuid.uuid4()\n",
    "        responses = row[response_columns].tolist()\n",
    "        \n",
    "        answer_relevance_responses = responses[::3]\n",
    "        formulation_responses = responses[1::3]\n",
    "        suitability_responses = responses[2::3]\n",
    "        \n",
    "        for ar, fr, sr in zip(answer_relevance_responses, formulation_responses, suitability_responses):\n",
    "            data_dict[\"respondent\"].append(name)\n",
    "            data_dict[\"answer_relevance\"].append(ar)\n",
    "            data_dict[\"formulation\"].append(fr)\n",
    "            data_dict[\"suitability\"].append(sr)\n",
    "    \n",
    "    return pd.DataFrame(data_dict)\n",
    "\n",
    "mdg_1_data_df = fill_data(mdg_responses_1_df, 4)\n",
    "mdg_2_data_df = fill_data(mdg_responses_2_df, 3)\n",
    "mdg_3_data_df = fill_data(mdg_responses_3_df, 3)"
   ]
  },
  {
   "cell_type": "markdown",
   "metadata": {},
   "source": [
    "## Merge the question description DataFrames and the response data DataFrames"
   ]
  },
  {
   "cell_type": "code",
   "execution_count": 63,
   "metadata": {},
   "outputs": [],
   "source": [
    "# First expand the queries DataFrames to be the same length as the response DataFrames\n",
    "mdg_queries_1_df_expanded = pd.concat([mdg_queries_1_df] * 4, ignore_index=True) # note that the first survey has 4 respondents\n",
    "mdg_queries_2_df_expanded = pd.concat([mdg_queries_2_df] * 3, ignore_index=True)\n",
    "mdg_queries_3_df_expanded = pd.concat([mdg_queries_3_df] * 3, ignore_index=True)\n",
    "\n",
    "# Concatenate the DataFrames along the columns\n",
    "mdg_queries_1_complete = pd.concat([mdg_queries_1_df_expanded, mdg_1_data_df], axis=1)\n",
    "mdg_queries_2_complete = pd.concat([mdg_queries_2_df_expanded, mdg_2_data_df], axis=1)\n",
    "mdg_queries_3_complete = pd.concat([mdg_queries_3_df_expanded, mdg_3_data_df], axis=1)\n",
    "\n",
    "verbose = False\n",
    "if verbose:\n",
    "    print(mdg_queries_1_complete.columns)\n",
    "    print(mdg_queries_2_complete.columns)\n",
    "    print(mdg_queries_3_complete.columns)\n",
    "\n",
    "mdg_queries_1_complete.to_csv(\"../../evals/human/multi-dimension/results/data1.csv\")\n",
    "mdg_queries_2_complete.to_csv(\"../../evals/human/multi-dimension/results/data2.csv\")\n",
    "mdg_queries_3_complete.to_csv(\"../../evals/human/multi-dimension/results/data3.csv\")"
   ]
  },
  {
   "cell_type": "markdown",
   "metadata": {},
   "source": [
    "## Create an index of questions per model"
   ]
  },
  {
   "cell_type": "code",
   "execution_count": 64,
   "metadata": {},
   "outputs": [],
   "source": [
    "# Double check this directly in the survey\n",
    "mdg_survey_1_index = {\n",
    "    \"baseline-gpt-3-5-turbo-16k-0613\": [8,11],\n",
    "    \"assistant-gpt-3-5-turbo-16k-0613\": [0,1,3,4,5,6,9],\n",
    "    \"pipeline-gpt-3-5-turbo-16k-0613\": [2,7,10],\n",
    "}\n",
    "\n",
    "# Double check this directly in the survey\n",
    "mdg_survey_2_index = {\n",
    "    \"baseline-gpt-3-5-turbo-16k-0613\": [0,3,6,9,11],\n",
    "    \"assistant-gpt-3-5-turbo-16k-0613\": [5,10],\n",
    "    \"pipeline-gpt-3-5-turbo-16k-0613\": [1,2,4,7,8],\n",
    "}\n",
    "\n",
    "# Double check this directly in the survey\n",
    "mdg_survey_3_index = {\n",
    "    \"baseline-gpt-3-5-turbo-16k-0613\": [0,2,5,7,9],\n",
    "    \"assistant-gpt-3-5-turbo-16k-0613\": [1,6,10],\n",
    "    \"pipeline-gpt-3-5-turbo-16k-0613\": [3,4,8,11],\n",
    "}\n",
    "\n",
    "QUESTION_ID_CONVERSION = {\n",
    "    0: \"Q3\",\n",
    "    1: \"Q4\",\n",
    "    2: \"Q5\",\n",
    "    3: \"Q6\",\n",
    "    4: \"Q7\",\n",
    "    5: \"Q8\",\n",
    "    6: \"Q9\",\n",
    "    7: \"Q10\",\n",
    "    8: \"Q11\",\n",
    "    9: \"Q12\",\n",
    "    10: \"Q13\",\n",
    "    11: \"Q14\",\n",
    "}"
   ]
  },
  {
   "cell_type": "markdown",
   "metadata": {},
   "source": [
    "## Extract the relevant results for baseline"
   ]
  },
  {
   "cell_type": "code",
   "execution_count": 65,
   "metadata": {},
   "outputs": [
    {
     "name": "stderr",
     "output_type": "stream",
     "text": [
      "/var/folders/_6/wpldr7zj16g6s0l2mb0tl3f00000gn/T/ipykernel_16298/1927512174.py:12: SettingWithCopyWarning: \n",
      "A value is trying to be set on a copy of a slice from a DataFrame.\n",
      "Try using .loc[row_indexer,col_indexer] = value instead\n",
      "\n",
      "See the caveats in the documentation: https://pandas.pydata.org/pandas-docs/stable/user_guide/indexing.html#returning-a-view-versus-a-copy\n",
      "  baseline_df_1['question_number'] = baseline_df_1['question_number']+\"-survey-1\"\n",
      "/var/folders/_6/wpldr7zj16g6s0l2mb0tl3f00000gn/T/ipykernel_16298/1927512174.py:13: SettingWithCopyWarning: \n",
      "A value is trying to be set on a copy of a slice from a DataFrame.\n",
      "Try using .loc[row_indexer,col_indexer] = value instead\n",
      "\n",
      "See the caveats in the documentation: https://pandas.pydata.org/pandas-docs/stable/user_guide/indexing.html#returning-a-view-versus-a-copy\n",
      "  baseline_df_2['question_number'] = baseline_df_2['question_number']+\"-survey-2\"\n",
      "/var/folders/_6/wpldr7zj16g6s0l2mb0tl3f00000gn/T/ipykernel_16298/1927512174.py:14: SettingWithCopyWarning: \n",
      "A value is trying to be set on a copy of a slice from a DataFrame.\n",
      "Try using .loc[row_indexer,col_indexer] = value instead\n",
      "\n",
      "See the caveats in the documentation: https://pandas.pydata.org/pandas-docs/stable/user_guide/indexing.html#returning-a-view-versus-a-copy\n",
      "  baseline_df_3['question_number'] = baseline_df_3['question_number']+\"-survey-3\"\n"
     ]
    }
   ],
   "source": [
    "# List of question numbers to match in the respective surveys\n",
    "baseline_match_1 = [QUESTION_ID_CONVERSION[query] for query in mdg_survey_1_index[\"baseline-gpt-3-5-turbo-16k-0613\"]]\n",
    "baseline_match_2 = [QUESTION_ID_CONVERSION[query] for query in mdg_survey_2_index[\"baseline-gpt-3-5-turbo-16k-0613\"]]\n",
    "baseline_match_3 = [QUESTION_ID_CONVERSION[query] for query in mdg_survey_3_index[\"baseline-gpt-3-5-turbo-16k-0613\"]]\n",
    "\n",
    "# Filter the DataFrame to only include rows where the 'Name' column matches any name in the list\n",
    "baseline_df_1 = mdg_queries_1_complete[mdg_queries_1_complete['question_number'].isin(baseline_match_1)]\n",
    "baseline_df_2 = mdg_queries_2_complete[mdg_queries_2_complete['question_number'].isin(baseline_match_2)]\n",
    "baseline_df_3 = mdg_queries_3_complete[mdg_queries_3_complete['question_number'].isin(baseline_match_3)]\n",
    "\n",
    "# Update the question_number identifiers\n",
    "baseline_df_1['question_number'] = baseline_df_1['question_number']+\"-survey-1\"\n",
    "baseline_df_2['question_number'] = baseline_df_2['question_number']+\"-survey-2\"\n",
    "baseline_df_3['question_number'] = baseline_df_3['question_number']+\"-survey-3\"\n",
    "\n",
    "# Concatenate the three DataFrames along the rows\n",
    "baseline_df = pd.concat([baseline_df_1, baseline_df_2, baseline_df_3], axis=0, ignore_index=True)\n",
    "\n",
    "baseline_df.to_csv(\"../../evals/human/multi-dimension/results/baseline_results.csv\")"
   ]
  },
  {
   "cell_type": "markdown",
   "metadata": {},
   "source": [
    "## Extract the relevant results for assistant"
   ]
  },
  {
   "cell_type": "code",
   "execution_count": 66,
   "metadata": {},
   "outputs": [
    {
     "name": "stderr",
     "output_type": "stream",
     "text": [
      "/var/folders/_6/wpldr7zj16g6s0l2mb0tl3f00000gn/T/ipykernel_16298/114385570.py:12: SettingWithCopyWarning: \n",
      "A value is trying to be set on a copy of a slice from a DataFrame.\n",
      "Try using .loc[row_indexer,col_indexer] = value instead\n",
      "\n",
      "See the caveats in the documentation: https://pandas.pydata.org/pandas-docs/stable/user_guide/indexing.html#returning-a-view-versus-a-copy\n",
      "  assistant_df_1['question_number'] = assistant_df_1['question_number']+\"-survey-1\"\n",
      "/var/folders/_6/wpldr7zj16g6s0l2mb0tl3f00000gn/T/ipykernel_16298/114385570.py:13: SettingWithCopyWarning: \n",
      "A value is trying to be set on a copy of a slice from a DataFrame.\n",
      "Try using .loc[row_indexer,col_indexer] = value instead\n",
      "\n",
      "See the caveats in the documentation: https://pandas.pydata.org/pandas-docs/stable/user_guide/indexing.html#returning-a-view-versus-a-copy\n",
      "  assistant_df_2['question_number'] = assistant_df_2['question_number']+\"-survey-2\"\n",
      "/var/folders/_6/wpldr7zj16g6s0l2mb0tl3f00000gn/T/ipykernel_16298/114385570.py:14: SettingWithCopyWarning: \n",
      "A value is trying to be set on a copy of a slice from a DataFrame.\n",
      "Try using .loc[row_indexer,col_indexer] = value instead\n",
      "\n",
      "See the caveats in the documentation: https://pandas.pydata.org/pandas-docs/stable/user_guide/indexing.html#returning-a-view-versus-a-copy\n",
      "  assistant_df_3['question_number'] = assistant_df_3['question_number']+\"-survey-3\"\n"
     ]
    }
   ],
   "source": [
    "# List of question numbers to match in the respective surveys\n",
    "assistant_match_1 = [QUESTION_ID_CONVERSION[query] for query in mdg_survey_1_index[\"assistant-gpt-3-5-turbo-16k-0613\"]]\n",
    "assistant_match_2 = [QUESTION_ID_CONVERSION[query] for query in mdg_survey_2_index[\"assistant-gpt-3-5-turbo-16k-0613\"]]\n",
    "assistant_match_3 = [QUESTION_ID_CONVERSION[query] for query in mdg_survey_3_index[\"assistant-gpt-3-5-turbo-16k-0613\"]]\n",
    "\n",
    "# Filter the DataFrame to only include rows where the 'Name' column matches any name in the list\n",
    "assistant_df_1 = mdg_queries_1_complete[mdg_queries_1_complete['question_number'].isin(assistant_match_1)]\n",
    "assistant_df_2 = mdg_queries_2_complete[mdg_queries_2_complete['question_number'].isin(assistant_match_2)]\n",
    "assistant_df_3 = mdg_queries_3_complete[mdg_queries_3_complete['question_number'].isin(assistant_match_3)]\n",
    "\n",
    "# Update the question_number identifiers\n",
    "assistant_df_1['question_number'] = assistant_df_1['question_number']+\"-survey-1\"\n",
    "assistant_df_2['question_number'] = assistant_df_2['question_number']+\"-survey-2\"\n",
    "assistant_df_3['question_number'] = assistant_df_3['question_number']+\"-survey-3\"\n",
    "\n",
    "# Concatenate the three DataFrames along the rows\n",
    "assistant_df = pd.concat([assistant_df_1, assistant_df_2, assistant_df_3], axis=0, ignore_index=True)\n",
    "\n",
    "assistant_df.to_csv(\"../../evals/human/multi-dimension/results/assistant_results.csv\")"
   ]
  },
  {
   "cell_type": "markdown",
   "metadata": {},
   "source": [
    "## Extract the relevant results for pipeline"
   ]
  },
  {
   "cell_type": "code",
   "execution_count": 67,
   "metadata": {},
   "outputs": [
    {
     "name": "stderr",
     "output_type": "stream",
     "text": [
      "/var/folders/_6/wpldr7zj16g6s0l2mb0tl3f00000gn/T/ipykernel_16298/3273053532.py:12: SettingWithCopyWarning: \n",
      "A value is trying to be set on a copy of a slice from a DataFrame.\n",
      "Try using .loc[row_indexer,col_indexer] = value instead\n",
      "\n",
      "See the caveats in the documentation: https://pandas.pydata.org/pandas-docs/stable/user_guide/indexing.html#returning-a-view-versus-a-copy\n",
      "  pipeline_df_1['question_number'] = pipeline_df_1['question_number']+\"-survey-1\"\n",
      "/var/folders/_6/wpldr7zj16g6s0l2mb0tl3f00000gn/T/ipykernel_16298/3273053532.py:13: SettingWithCopyWarning: \n",
      "A value is trying to be set on a copy of a slice from a DataFrame.\n",
      "Try using .loc[row_indexer,col_indexer] = value instead\n",
      "\n",
      "See the caveats in the documentation: https://pandas.pydata.org/pandas-docs/stable/user_guide/indexing.html#returning-a-view-versus-a-copy\n",
      "  pipeline_df_2['question_number'] = pipeline_df_2['question_number']+\"-survey-2\"\n",
      "/var/folders/_6/wpldr7zj16g6s0l2mb0tl3f00000gn/T/ipykernel_16298/3273053532.py:14: SettingWithCopyWarning: \n",
      "A value is trying to be set on a copy of a slice from a DataFrame.\n",
      "Try using .loc[row_indexer,col_indexer] = value instead\n",
      "\n",
      "See the caveats in the documentation: https://pandas.pydata.org/pandas-docs/stable/user_guide/indexing.html#returning-a-view-versus-a-copy\n",
      "  pipeline_df_3['question_number'] = pipeline_df_3['question_number']+\"-survey-3\"\n"
     ]
    }
   ],
   "source": [
    "# List of question numbers to match in the respective surveys\n",
    "pipeline_match_1 = [QUESTION_ID_CONVERSION[query] for query in mdg_survey_1_index[\"pipeline-gpt-3-5-turbo-16k-0613\"]]\n",
    "pipeline_match_2 = [QUESTION_ID_CONVERSION[query] for query in mdg_survey_2_index[\"pipeline-gpt-3-5-turbo-16k-0613\"]]\n",
    "pipeline_match_3 = [QUESTION_ID_CONVERSION[query] for query in mdg_survey_3_index[\"pipeline-gpt-3-5-turbo-16k-0613\"]]\n",
    "\n",
    "# Filter the DataFrame to only include rows where the 'Name' column matches any name in the list\n",
    "pipeline_df_1 = mdg_queries_1_complete[mdg_queries_1_complete['question_number'].isin(pipeline_match_1)]\n",
    "pipeline_df_2 = mdg_queries_2_complete[mdg_queries_2_complete['question_number'].isin(pipeline_match_2)]\n",
    "pipeline_df_3 = mdg_queries_3_complete[mdg_queries_3_complete['question_number'].isin(pipeline_match_3)]\n",
    "\n",
    "# Update the question_number identifiers\n",
    "pipeline_df_1['question_number'] = pipeline_df_1['question_number']+\"-survey-1\"\n",
    "pipeline_df_2['question_number'] = pipeline_df_2['question_number']+\"-survey-2\"\n",
    "pipeline_df_3['question_number'] = pipeline_df_3['question_number']+\"-survey-3\"\n",
    "\n",
    "# Concatenate the three DataFrames along the rows\n",
    "pipeline_df = pd.concat([pipeline_df_1, pipeline_df_2, pipeline_df_3], axis=0, ignore_index=True)\n",
    "\n",
    "pipeline_df.to_csv(\"../../evals/human/multi-dimension/results/pipeline_results.csv\")"
   ]
  },
  {
   "cell_type": "markdown",
   "metadata": {},
   "source": [
    "## Get values of interest from the data"
   ]
  },
  {
   "cell_type": "code",
   "execution_count": 111,
   "metadata": {},
   "outputs": [
    {
     "name": "stdout",
     "output_type": "stream",
     "text": [
      "1\n",
      "Averages (0=baseline, 1=assistant, 2=pipeline)\n",
      "   answer_relevance  formulation  suitability\n",
      "0          4.184211     4.421053     4.184211\n",
      "1          3.883721     3.627907     3.581395\n",
      "2          4.000000     4.153846     4.153846\n"
     ]
    }
   ],
   "source": [
    "baseline_results = pd.read_csv(\"../../evals/human/multi-dimension/results/baseline_results.csv\")\n",
    "assistant_results = pd.read_csv(\"../../evals/human/multi-dimension/results/assistant_results.csv\")\n",
    "pipeline_results = pd.read_csv(\"../../evals/human/multi-dimension/results/pipeline_results.csv\")\n",
    "\n",
    "baseline_averages = baseline_results.groupby('source_file')[['answer_relevance', 'formulation', 'suitability']].mean()\n",
    "assistant_averages = assistant_results.groupby('source_file')[['answer_relevance', 'formulation', 'suitability']].mean()\n",
    "pipeline_averages = pipeline_results.groupby('source_file')[['answer_relevance', 'formulation', 'suitability']].mean()\n",
    "\n",
    "# print(len(baseline_averages))\n",
    "# print(assistant_averages.head())\n",
    "# print(pipeline_averages.head())\n",
    "results_df = pd.concat([baseline_averages, assistant_averages, pipeline_averages], axis=0, ignore_index=True)\n",
    "print(\"Averages (0=baseline, 1=assistant, 2=pipeline)\")\n",
    "print(results_df)"
   ]
  },
  {
   "cell_type": "code",
   "execution_count": 104,
   "metadata": {},
   "outputs": [
    {
     "name": "stdout",
     "output_type": "stream",
     "text": [
      "Standard mean (0=baseline, 1=assistant, 2=pipeline)\n",
      "   answer_relevance  formulation  suitability\n",
      "0          0.150179     0.089503     0.159370\n",
      "1          0.163737     0.188317     0.156910\n",
      "2          0.168345     0.140072     0.130081\n"
     ]
    },
    {
     "name": "stderr",
     "output_type": "stream",
     "text": [
      "/var/folders/_6/wpldr7zj16g6s0l2mb0tl3f00000gn/T/ipykernel_16298/60629283.py:15: FutureWarning: Calling int on a single element Series is deprecated and will raise a TypeError in the future. Use int(ser.iloc[0]) instead\n",
      "  sem_baseline = baseline_stds / np.sqrt(int(n_respondents_baseline))\n",
      "/var/folders/_6/wpldr7zj16g6s0l2mb0tl3f00000gn/T/ipykernel_16298/60629283.py:16: FutureWarning: Calling int on a single element Series is deprecated and will raise a TypeError in the future. Use int(ser.iloc[0]) instead\n",
      "  sem_assistant = assistant_stds / np.sqrt(int(n_respondents_assistant))\n",
      "/var/folders/_6/wpldr7zj16g6s0l2mb0tl3f00000gn/T/ipykernel_16298/60629283.py:17: FutureWarning: Calling int on a single element Series is deprecated and will raise a TypeError in the future. Use int(ser.iloc[0]) instead\n",
      "  sem_pipeline = pipeline_stds / np.sqrt(int(n_respondents_pipeline))\n"
     ]
    }
   ],
   "source": [
    "import numpy as np\n",
    "\n",
    "# Calculate standard deviations\n",
    "baseline_stds = baseline_results.groupby('source_file')[['answer_relevance', 'formulation', 'suitability']].std()\n",
    "assistant_stds = assistant_results.groupby('source_file')[['answer_relevance', 'formulation', 'suitability']].std()\n",
    "pipeline_stds = pipeline_results.groupby('source_file')[['answer_relevance', 'formulation', 'suitability']].std()\n",
    "\n",
    "# Number of respondents per pipeline (assuming equal number of responses per pipeline for simplicity)\n",
    "n_respondents_baseline = baseline_results.groupby('source_file').size()\n",
    "n_respondents_assistant = assistant_results.groupby('source_file').size()\n",
    "n_respondents_pipeline = pipeline_results.groupby('source_file').size()\n",
    "\n",
    "\n",
    "# Calculate standard error of the mean (SEM) - \n",
    "sem_baseline = baseline_stds / np.sqrt(int(n_respondents_baseline))\n",
    "sem_assistant = assistant_stds / np.sqrt(int(n_respondents_assistant))\n",
    "sem_pipeline = pipeline_stds / np.sqrt(int(n_respondents_pipeline))\n",
    "\n",
    "standard_errors_df = pd.concat([sem_baseline, sem_assistant, sem_pipeline], axis=0, ignore_index=True)\n",
    "print(\"Standard mean (0=baseline, 1=assistant, 2=pipeline)\")\n",
    "print(standard_errors_df)\n",
    "\n"
   ]
  },
  {
   "cell_type": "markdown",
   "metadata": {},
   "source": [
    "## Plot of results"
   ]
  },
  {
   "cell_type": "code",
   "execution_count": 127,
   "metadata": {},
   "outputs": [
    {
     "data": {
      "image/png": "[encoded data removed]",
      "text/plain": [
       "<Figure size 1200x800 with 1 Axes>"
      ]
     },
     "metadata": {},
     "output_type": "display_data"
    }
   ],
   "source": [
    "# here I should create a plot of the averages with the error bars\n",
    "import matplotlib.pyplot as plt\n",
    "\n",
    "results_df.index = ['Baseline', 'Assistant', 'Pipeline']\n",
    "standard_errors_df.index = ['Baseline', 'Assistant', 'Pipeline']\n",
    "\n",
    "# # Plot the data with error bars\n",
    "# fig, ax = plt.subplots(1, 3, figsize=(18, 6), sharey=True)\n",
    "\n",
    "# metrics = ['answer_relevance', 'formulation', 'suitability']\n",
    "# titles = ['Answer Relevance', 'Formulation', 'Suitability']\n",
    "# colors = ['blue', 'orange', 'green']\n",
    "# pipelines = ['Baseline', 'Assistant', 'Pipeline']\n",
    "\n",
    "# # print(results_df[\"answer_relevance\"])\n",
    "\n",
    "# # double check this\n",
    "# for i, metric in enumerate(metrics):\n",
    "#     means = results_df[metric]\n",
    "#     errors = standard_errors_df[metric]\n",
    "#     ax[i].bar(pipelines, means, yerr=errors, capsize=5, color=colors)\n",
    "#     ax[i].set_title(titles[i])\n",
    "#     ax[i].set_ylim(0, 5)\n",
    "#     ax[i].set_ylabel('Average Score')\n",
    "#     ax[i].set_xlabel('Pipeline')\n",
    "\n",
    "# plt.suptitle('Comparison of RAG Pipelines')\n",
    "# plt.tight_layout(rect=[0, 0.03, 1, 0.95])\n",
    "# plt.show()\n",
    "\n",
    "# Define shades of grey and patterns\n",
    "colors = ['#808080', '#A9A9A9', '#D3D3D3']  # Different shades of grey\n",
    "hatches = ['/', '\\\\', '|']  # Different patterns\n",
    "\n",
    "# Create a single plot\n",
    "fig, ax = plt.subplots(figsize=(12, 8))\n",
    "\n",
    "metrics = ['answer_relevance', 'formulation', 'suitability']\n",
    "titles = ['Answer Relevance', 'Formulation', 'Suitability']\n",
    "pipelines = ['Baseline', 'Assistant', 'Pipeline']\n",
    "\n",
    "# Positions for the bars\n",
    "bar_width = 0.2\n",
    "positions = np.arange(len(pipelines))\n",
    "offsets = np.linspace(-bar_width, bar_width, len(metrics))\n",
    "\n",
    "# Plotting\n",
    "for i, (metric, title, color, hatch) in enumerate(zip(metrics, titles, colors, hatches)):\n",
    "    means = [results_df.loc[pipeline, metric] for pipeline in pipelines]\n",
    "    errors = [standard_errors_df.loc[pipeline, metric] for pipeline in pipelines]\n",
    "    bars = ax.bar(positions + offsets[i], means, yerr=errors, capsize=5, width=bar_width, color=color, label=title, hatch=hatch)\n",
    "\n",
    "# Customizing the plot\n",
    "ax.set_title('Comparison of RAG Pipelines')\n",
    "ax.set_ylim(0, 5)\n",
    "ax.set_ylabel('Average Score')\n",
    "ax.set_xlabel('Pipeline')\n",
    "ax.set_xticks(positions)\n",
    "ax.set_xticklabels(pipelines)\n",
    "ax.legend()\n",
    "\n",
    "plt.tight_layout(rect=[0, 0.03, 1, 0.95])\n",
    "plt.show()"
   ]
  },
  {
   "cell_type": "markdown",
   "metadata": {},
   "source": [
    "## Compute Krippendorf's alpha"
   ]
  },
  {
   "cell_type": "code",
   "execution_count": 97,
   "metadata": {},
   "outputs": [
    {
     "name": "stderr",
     "output_type": "stream",
     "text": [
      "/var/folders/_6/wpldr7zj16g6s0l2mb0tl3f00000gn/T/ipykernel_16298/1251106025.py:17: FutureWarning: DataFrame.applymap has been deprecated. Use DataFrame.map instead.\n",
      "  pivot_answer_relevance = pivot_answer_relevance.applymap(lambda x: np.nan if pd.isnull(x) else x)\n",
      "/var/folders/_6/wpldr7zj16g6s0l2mb0tl3f00000gn/T/ipykernel_16298/1251106025.py:18: FutureWarning: DataFrame.applymap has been deprecated. Use DataFrame.map instead.\n",
      "  pivot_formulation = pivot_formulation.applymap(lambda x: np.nan if pd.isnull(x) else x)\n",
      "/var/folders/_6/wpldr7zj16g6s0l2mb0tl3f00000gn/T/ipykernel_16298/1251106025.py:19: FutureWarning: DataFrame.applymap has been deprecated. Use DataFrame.map instead.\n",
      "  pivot_suitability = pivot_suitability.applymap(lambda x: np.nan if pd.isnull(x) else x)\n"
     ]
    }
   ],
   "source": [
    "import krippendorff\n",
    "\n",
    "# Prepare data for the Krippendorf calculation\n",
    "\n",
    "df1 = pd.read_csv(\"../../evals/human/multi-dimension/results/assistant_results.csv\")\n",
    "df2 = pd.read_csv(\"../../evals/human/multi-dimension/results/baseline_results.csv\")\n",
    "df3 = pd.read_csv(\"../../evals/human/multi-dimension/results/pipeline_results.csv\")\n",
    "\n",
    "df = pd.concat([df1, df2, df3], axis=0, ignore_index=True)\n",
    "\n",
    "# Create three pivot tables, one for each metric (the aggfunc is only used to deal with duplicate question_number-respondent pairs)\n",
    "pivot_answer_relevance = df.pivot_table(index='respondent', columns='question_number', values='answer_relevance', aggfunc='mean')\n",
    "pivot_formulation = df.pivot_table(index='respondent', columns='question_number', values='formulation', aggfunc='mean')\n",
    "pivot_suitability = df.pivot_table(index='respondent', columns='question_number', values='suitability', aggfunc='mean')\n",
    "\n",
    "# Replace missing values with np.nan\n",
    "pivot_answer_relevance = pivot_answer_relevance.applymap(lambda x: np.nan if pd.isnull(x) else x)\n",
    "pivot_formulation = pivot_formulation.applymap(lambda x: np.nan if pd.isnull(x) else x)\n",
    "pivot_suitability = pivot_suitability.applymap(lambda x: np.nan if pd.isnull(x) else x)\n",
    "\n",
    "# Convert pivot tables to numpy arrays\n",
    "array_answer_relevance = pivot_answer_relevance.to_numpy()\n",
    "array_formulation = pivot_formulation.to_numpy()\n",
    "array_suitability = pivot_suitability.to_numpy()\n",
    "\n",
    "verbose = False\n",
    "if verbose:\n",
    "    # Print the arrays to check\n",
    "    print(\"Answer Relevance Array:\")\n",
    "    print(array_answer_relevance)\n",
    "    print(\"\\nFormulation Array:\")\n",
    "    print(array_formulation)\n",
    "    print(\"\\nSuitability Array:\")\n",
    "    print(array_suitability)\n"
   ]
  },
  {
   "cell_type": "code",
   "execution_count": 102,
   "metadata": {},
   "outputs": [
    {
     "name": "stdout",
     "output_type": "stream",
     "text": [
      "0.020153432197979382 0.1372956309736706 0.3243691954022989\n"
     ]
    }
   ],
   "source": [
    "# Calculate Krippendorff's alpha for each question\n",
    "alpha_answer_relevance = krippendorff.alpha(reliability_data=array_answer_relevance, level_of_measurement=\"ordinal\")\n",
    "alpha_formulation = krippendorff.alpha(reliability_data=array_formulation, level_of_measurement=\"ordinal\")\n",
    "alpha_suitability = krippendorff.alpha(reliability_data=array_suitability, level_of_measurement=\"ordinal\")\n",
    "\n",
    "print(alpha_answer_relevance, alpha_formulation, alpha_suitability)"
   ]
  }
 ],
 "metadata": {
  "kernelspec": {
   "display_name": ".venv",
   "language": "python",
   "name": "python3"
  },
  "language_info": {
   "codemirror_mode": {
    "name": "ipython",
    "version": 3
   },
   "file_extension": ".py",
   "mimetype": "text/x-python",
   "name": "python",
   "nbconvert_exporter": "python",
   "pygments_lexer": "ipython3",
   "version": "3.11.6"
  }
 },
 "nbformat": 4,
 "nbformat_minor": 2
}
