{
 "cells": [
  {
   "cell_type": "markdown",
   "metadata": {},
   "source": [
    "# Compute MDG survey results\n",
    "\n",
    "This document will allow us to compute the MDG averages from the users and Krippendorf's alpha between them."
   ]
  },
  {
   "cell_type": "markdown",
   "metadata": {},
   "source": [
    "## Create an index of questions per model"
   ]
  },
  {
   "cell_type": "code",
   "execution_count": null,
   "metadata": {},
   "outputs": [],
   "source": [
    "# Double check this directly in the survey\n",
    "mdg_survey_1_index = {\n",
    "    \"baseline-gpt-3-5-turbo-16k-0613\": [0,1,8,11],\n",
    "    \"assistant-gpt-3-5-turbo-16k-0613\": [3,4,5,6,9],\n",
    "    \"pipeline-gpt-3-5-turbo-16k-0613\": [2,7,10],\n",
    "}\n",
    "\n",
    "# Double check this directly in the survey\n",
    "mdg_survey_2_index = {\n",
    "    \"baseline-gpt-3-5-turbo-16k-0613\": [],\n",
    "    \"assistant-gpt-3-5-turbo-16k-0613\": [],\n",
    "    \"pipeline-gpt-3-5-turbo-16k-0613\": [],\n",
    "}\n",
    "\n",
    "# Double check this directly in the survey\n",
    "mdg_survey_3_index = {\n",
    "    \"baseline-gpt-3-5-turbo-16k-0613\": [],\n",
    "    \"assistant-gpt-3-5-turbo-16k-0613\": [],\n",
    "    \"pipeline-gpt-3-5-turbo-16k-0613\": [],\n",
    "}"
   ]
  },
  {
   "cell_type": "markdown",
   "metadata": {},
   "source": [
    "## Convert the question list to a dictionary"
   ]
  },
  {
   "cell_type": "code",
   "execution_count": null,
   "metadata": {},
   "outputs": [],
   "source": [
    "mdg_questions_list = [{\n",
    "    \"answer-relevance\": SCORE,\n",
    "    \"question-formulation\": SCORE,\n",
    "    \"question-suitability\": SCORE\n",
    "}]"
   ]
  }
 ],
 "metadata": {
  "language_info": {
   "name": "python"
  }
 },
 "nbformat": 4,
 "nbformat_minor": 2
}
