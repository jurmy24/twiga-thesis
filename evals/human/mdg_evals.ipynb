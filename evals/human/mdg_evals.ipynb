{
 "cells": [
  {
   "cell_type": "markdown",
   "metadata": {},
   "source": [
    "# Compute MDG survey results\n",
    "\n",
    "This document will allow us to compute the MDG averages from the users and Krippendorf's alpha between them."
   ]
  },
  {
   "cell_type": "code",
   "execution_count": 25,
   "metadata": {},
   "outputs": [],
   "source": [
    "import pandas as pd\n",
    "import json\n",
    "from models import MDGScore, QuestionResSchema"
   ]
  },
  {
   "cell_type": "markdown",
   "metadata": {},
   "source": [
    "## Create an index of questions per model"
   ]
  },
  {
   "cell_type": "code",
   "execution_count": 2,
   "metadata": {},
   "outputs": [],
   "source": [
    "# Double check this directly in the survey\n",
    "mdg_survey_1_index = {\n",
    "    \"baseline-gpt-3-5-turbo-16k-0613\": [8,11],\n",
    "    \"assistant-gpt-3-5-turbo-16k-0613\": [0,1,3,4,5,6,9],\n",
    "    \"pipeline-gpt-3-5-turbo-16k-0613\": [2,7,10],\n",
    "}\n",
    "\n",
    "# Double check this directly in the survey\n",
    "mdg_survey_2_index = {\n",
    "    \"baseline-gpt-3-5-turbo-16k-0613\": [0,3,6,9,11],\n",
    "    \"assistant-gpt-3-5-turbo-16k-0613\": [5,10],\n",
    "    \"pipeline-gpt-3-5-turbo-16k-0613\": [1,2,4,7,8],\n",
    "}\n",
    "\n",
    "# Double check this directly in the survey\n",
    "mdg_survey_3_index = {\n",
    "    \"baseline-gpt-3-5-turbo-16k-0613\": [0,2,5,7,9],\n",
    "    \"assistant-gpt-3-5-turbo-16k-0613\": [1,6,10],\n",
    "    \"pipeline-gpt-3-5-turbo-16k-0613\": [3,4,8,11],\n",
    "}"
   ]
  },
  {
   "cell_type": "markdown",
   "metadata": {},
   "source": [
    "## Convert the question list to a dictionary"
   ]
  },
  {
   "cell_type": "code",
   "execution_count": 28,
   "metadata": {},
   "outputs": [],
   "source": [
    "# Read csv file 2\n",
    "csv_mdg_2_path = \"../../evals/human/multi-dimension/results/twiga-mdg-2.csv\"\n",
    "json_mdg_path = \"../../evals/human/multi-dimension/multi-dimension-survey.json\""
   ]
  },
  {
   "cell_type": "code",
   "execution_count": 46,
   "metadata": {},
   "outputs": [
    {
     "name": "stdout",
     "output_type": "stream",
     "text": [
      "Index(['query', 'response', 'exercise_format', 'topic', 'source_file'], dtype='object')\n",
      "Index(['query', 'response', 'exercise_format', 'topic', 'source_file'], dtype='object')\n",
      "Index(['query', 'response', 'exercise_format', 'topic', 'source_file'], dtype='object')\n",
      "12\n",
      "12\n",
      "12\n"
     ]
    }
   ],
   "source": [
    "\"\"\"Read JSON file of queries into three separate mdg survey dataaframes\"\"\"\n",
    "with open(json_mdg_path, 'r') as file:\n",
    "    data = json.load(file)\n",
    "\n",
    "# Extract the relevant information and store it in a dictionary\n",
    "mdg_queries_1_df = pd.DataFrame(data[0:12])\n",
    "mdg_queries_2_df = pd.DataFrame(data[12:24])\n",
    "mdg_queries_3_df = pd.DataFrame(data[24:36])\n",
    "\n",
    "verbose = True\n",
    "if verbose:\n",
    "    print(mdg_queries_1_df.columns)\n",
    "    print(mdg_queries_2_df.columns)\n",
    "    print(mdg_queries_3_df.columns)\n",
    "\n",
    "    print(len(mdg_queries_1_df))\n",
    "    print(len(mdg_queries_2_df))\n",
    "    print(len(mdg_queries_3_df))\n"
   ]
  },
  {
   "cell_type": "code",
   "execution_count": 50,
   "metadata": {},
   "outputs": [
    {
     "name": "stdout",
     "output_type": "stream",
     "text": [
      "Index(['Q3.1', 'Q4.1', 'Q5.1', 'Q6.1', 'Q7.1', 'Q8.1', 'Q9.1', 'Q10.1',\n",
      "       'Q11.1', 'Q12.1', 'Q13.1', 'Q14.1'],\n",
      "      dtype='object')\n",
      "Index(['Q3.2', 'Q4.2', 'Q5.2', 'Q6.2', 'Q7.2', 'Q8.2', 'Q9.2', 'Q10.2',\n",
      "       'Q11.2', 'Q12.2', 'Q13.2', 'Q14.2'],\n",
      "      dtype='object')\n",
      "Index(['Q3.3', 'Q4.3', 'Q5.3', 'Q6.3', 'Q7.3', 'Q8.3', 'Q9.3', 'Q10.3',\n",
      "       'Q11.3', 'Q12.3', 'Q13.3', 'Q14.3'],\n",
      "      dtype='object')\n",
      "Respondent: Ramadhani \n",
      "Responses: {'answer_relevance': [5, 5, 5, 5, 5, 5, 5, 5, 5, 5, 5, 5], 'formulation': [5, 5, 5, 5, 5, 5, 5, 5, 5, 5, 5, 5], 'suitability': [5, 5, 5, 5, 5, 5, 5, 5, 5, 5, 5, 5]}\n",
      "Respondent: Veronica \n",
      "Responses: {'answer_relevance': [3, 2, 4, 4, 4, 4, 4, 3, 3, 4, 4, 4], 'formulation': [3, 3, 4, 4, 3, 4, 4, 4, 4, 4, 4, 4], 'suitability': [3, 3, 4, 4, 3, 4, 4, 4, 4, 4, 4, 4]}\n",
      "Respondent: Stedius bernado\n",
      "Responses: {'answer_relevance': [4, 2, 5, 5, 5, 5, 4, 5, 5, 5, 5, 5], 'formulation': [5, 2, 5, 5, 5, 5, 4, 5, 5, 5, 5, 5], 'suitability': [2, 4, 5, 5, 5, 5, 4, 5, 5, 5, 5, 5]}\n"
     ]
    }
   ],
   "source": [
    "\"\"\"Read the csv file into a dataframe\"\"\"\n",
    "# Read the CSV file into a DataFrame, skipping the first row (metadata)\n",
    "df = pd.read_csv(csv_mdg_2_path, skiprows=[1,2])\n",
    "\n",
    "# Assuming the first column is 'Name' and subsequent columns are responses\n",
    "name_column = df.columns[17]  # The title of the name column\n",
    "sanity_check_columns = df.columns[21:30] # TODO: get the actual query-response pair I made manually and show them somewhere along with these (can put in appendix)\n",
    "response_columns = df.columns[30:66] # The titles of the question columns and associated responses\n",
    "\n",
    "\n",
    "# Extract the names and their associated responses\n",
    "respondent_responses = {}\n",
    "for index, row in df.iterrows():\n",
    "    name = row[name_column]\n",
    "    responses = row[response_columns].tolist()\n",
    "    answer_relevance_responses = responses[::3]\n",
    "    formulation_responses = responses[1::3]\n",
    "    suitability_responses = responses[2::3]\n",
    "    respondent_responses[name] = {\n",
    "        \"answer_relevance\": answer_relevance_responses,\n",
    "        \"formulation\": formulation_responses,\n",
    "        \"suitability\": suitability_responses\n",
    "    }\n",
    "\n",
    "# Print the results (or you can save them to a file if needed)\n",
    "verbose = False\n",
    "if verbose:\n",
    "    print(response_columns[::3])\n",
    "    print(response_columns[1::3])\n",
    "    print(response_columns[2::3])\n",
    "\n",
    "    for respondent, responses in respondent_responses.items():\n",
    "        print(f\"Respondent: {respondent}\\nResponses: {responses}\")\n"
   ]
  }
 ],
 "metadata": {
  "kernelspec": {
   "display_name": ".venv",
   "language": "python",
   "name": "python3"
  },
  "language_info": {
   "codemirror_mode": {
    "name": "ipython",
    "version": 3
   },
   "file_extension": ".py",
   "mimetype": "text/x-python",
   "name": "python",
   "nbconvert_exporter": "python",
   "pygments_lexer": "ipython3",
   "version": "3.11.6"
  }
 },
 "nbformat": 4,
 "nbformat_minor": 2
}
