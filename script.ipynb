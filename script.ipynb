{
 "cells": [
  {
   "cell_type": "code",
   "execution_count": 1,
   "metadata": {},
   "outputs": [],
   "source": [
    "import os\n",
    "from dotenv import load_dotenv\n",
    "from typing import List\n",
    "\n",
    "from src.KnowledgeParser import KnowledgeParser\n",
    "from src.utils import save_documents_as_json, save_markdown_content, save_nodes_as_json"
   ]
  },
  {
   "cell_type": "code",
   "execution_count": 2,
   "metadata": {},
   "outputs": [],
   "source": [
    "load_dotenv()\n",
    "LLAMA_CLOUD_API_KEY = os.getenv(\"LLAMA_CLOUD_API_KEY\") \n",
    "DATA_DIR = os.getenv('DATA_DIR_PATH')"
   ]
  },
  {
   "cell_type": "code",
   "execution_count": 3,
   "metadata": {},
   "outputs": [
    {
     "name": "stdout",
     "output_type": "stream",
     "text": [
      "Started parsing the file under job_id a915b83c-822b-4a1d-8f76-62ef5c5449db\n"
     ]
    }
   ],
   "source": [
    "# Initialize the KnowledgeParser\n",
    "knowledge_parser = KnowledgeParser(api_key=LLAMA_CLOUD_API_KEY)\n",
    "\n",
    "pdf = os.path.join(DATA_DIR, \"airbnb-faq.pdf\")\n",
    "documents = knowledge_parser.parse_pdf_sync(pdf)\n"
   ]
  },
  {
   "cell_type": "code",
   "execution_count": 4,
   "metadata": {},
   "outputs": [
    {
     "name": "stdout",
     "output_type": "stream",
     "text": [
      "## Check-in/out Details\n",
      "\n",
      "|1|Q: How do I check in to the property?|\n",
      "|---|---|\n",
      "| |A: You can check in using the lockbox located at the main entrance, on the right wall. The pin code is 7469.|\n",
      "|2|Q: Where can I find the key to the property?|\n",
      "| |A: The key is located inside the lockbox at the main entrance, on the right wall. Please use the pin code 7469 to access it.|\n",
      "|3|Q: What is the check-out procedure?|\n",
      "| |A: Please leave the key inside the lockbox and ensure all windows and doors are locked.|\n",
      "|4|Q: What is the PIN code for the lockbox?|\n",
      "| |A: The PIN code is 7469. Please ensure you keep it confidential.|\n",
      "\n",
      "## Accommodation Details\n",
      "\n",
      "|5|Q: What's the Wi-Fi password for the property?|\n",
      "|---|---|\n",
      "| |A: The Wi-Fi password is LeLouvre7469_Paris.|\n",
      "|6|Q: I'm having trouble connecting to the Wi-Fi, any suggestions?|\n",
      "| |A: Ensure you've selected the correct network and entered the password LeLouvre7469_Paris accurately. If the problem persists, try restarting your device or resetting the router....\n"
     ]
    }
   ],
   "source": [
    "print(documents[0].text[:1000] + '...')"
   ]
  },
  {
   "cell_type": "code",
   "execution_count": 6,
   "metadata": {},
   "outputs": [],
   "source": [
    "# Save data in json and markdown files\n",
    "save_documents_as_json(documents, os.path.join(DATA_DIR, \"documents\", \"markdown-entire-docs.json\"))\n",
    "save_markdown_content(documents[0], os.path.join(DATA_DIR, \"documents\", \"airbnb-faq.md\")) # TODO: make this also accept a longer list of items "
   ]
  },
  {
   "cell_type": "code",
   "execution_count": 7,
   "metadata": {},
   "outputs": [],
   "source": [
    "import nest_asyncio\n",
    "nest_asyncio.apply()"
   ]
  },
  {
   "cell_type": "code",
   "execution_count": 8,
   "metadata": {},
   "outputs": [
    {
     "name": "stderr",
     "output_type": "stream",
     "text": [
      "6it [00:00, 8955.81it/s]\n",
      "100%|██████████| 6/6 [00:03<00:00,  1.78it/s]\n"
     ]
    }
   ],
   "source": [
    "# Let's figure out what the nodes are and look like...\n",
    "\n",
    "nodes = knowledge_parser.node_parser.get_nodes_from_documents(documents)"
   ]
  },
  {
   "cell_type": "code",
   "execution_count": 9,
   "metadata": {},
   "outputs": [],
   "source": [
    "base_nodes, objects = knowledge_parser.node_parser.get_nodes_and_objects(nodes)"
   ]
  },
  {
   "cell_type": "code",
   "execution_count": 10,
   "metadata": {},
   "outputs": [],
   "source": [
    "from llama_index.core import VectorStoreIndex"
   ]
  },
  {
   "cell_type": "code",
   "execution_count": 11,
   "metadata": {},
   "outputs": [],
   "source": [
    "recursive_index = VectorStoreIndex(nodes=base_nodes+objects)\n",
    "raw_index = VectorStoreIndex.from_documents(documents)"
   ]
  },
  {
   "cell_type": "code",
   "execution_count": 13,
   "metadata": {},
   "outputs": [
    {
     "name": "stderr",
     "output_type": "stream",
     "text": [
      "/Users/victoroldensand/Documents/KTH/master-thesis/codebase/twiga/.venv/lib/python3.11/site-packages/tqdm/auto.py:21: TqdmWarning: IProgress not found. Please update jupyter and ipywidgets. See https://ipywidgets.readthedocs.io/en/stable/user_install.html\n",
      "  from .autonotebook import tqdm as notebook_tqdm\n"
     ]
    }
   ],
   "source": [
    "from llama_index.postprocessor.flag_embedding_reranker import FlagEmbeddingReranker\n",
    "\n",
    "reranker = FlagEmbeddingReranker(\n",
    "    top_n=5,\n",
    "    model=\"BAAI/bge-reranker-large\",\n",
    ")\n",
    "\n",
    "recursive_query_engine = recursive_index.as_query_engine(\n",
    "    similarity_top_k=15, \n",
    "    node_postprocessors=[reranker], \n",
    "    verbose=True\n",
    ")\n",
    "\n",
    "raw_query_engine = raw_index.as_query_engine(similarity_top_k=15, node_postprocessors=[reranker])"
   ]
  },
  {
   "cell_type": "code",
   "execution_count": 15,
   "metadata": {},
   "outputs": [
    {
     "name": "stdout",
     "output_type": "stream",
     "text": [
      "[TextNode(id_='bf3387b4-f93e-46c8-a9e0-ed16be137cde', embedding=None, metadata={}, excluded_embed_metadata_keys=[], excluded_llm_metadata_keys=[], relationships={<NodeRelationship.SOURCE: '1'>: RelatedNodeInfo(node_id='4135d9a1-4fe8-4dd1-884a-f304cada32a6', node_type=<ObjectType.DOCUMENT: '4'>, metadata={}, hash='97c43d9d824f0c722797d4732d68a2d6118d714db0a1e60cb327a1106a8cbeb2'), <NodeRelationship.NEXT: '3'>: RelatedNodeInfo(node_id='id_5ac92209-10a6-4076-bcc0-847339ca47d5_2_table_ref', node_type=<ObjectType.INDEX: '3'>, metadata={'col_schema': ''}, hash='0ade328d12f06180df2ca425461fdee2460f55a52f41e969a194b6bf99dfbd48')}, text='Check-in/out Details', start_char_idx=1, end_char_idx=21, text_template='{metadata_str}\\n\\n{content}', metadata_template='{key}: {value}', metadata_seperator='\\n'), IndexNode(id_='id_5ac92209-10a6-4076-bcc0-847339ca47d5_2_table_ref', embedding=None, metadata={'col_schema': ''}, excluded_embed_metadata_keys=['col_schema'], excluded_llm_metadata_keys=[], relationships={<NodeRelationship.PREVIOUS: '2'>: RelatedNodeInfo(node_id='bf3387b4-f93e-46c8-a9e0-ed16be137cde', node_type=<ObjectType.TEXT: '1'>, metadata={}, hash='243dbe44a07f3ff361dc8adfb76845eaa691b71b34a0c9b099cc14ebd8744ffa'), <NodeRelationship.NEXT: '3'>: RelatedNodeInfo(node_id='id_5ac92209-10a6-4076-bcc0-847339ca47d5_2_table', node_type=<ObjectType.TEXT: '1'>, metadata={'table_df': \"{'1': {0: ' ', 1: '2', 2: ' ', 3: '3', 4: ' ', 5: '4', 6: ' '}, 'Q: How do I check in to the property?': {0: 'A: You can check in using the lockbox located at the main entrance, on the right wall. The pin code is 7469.', 1: 'Q: Where can I find the key to the property?', 2: 'A: The key is located inside the lockbox at the main entrance, on the right wall. Please use the pin code 7469 to access it.', 3: 'Q: What is the check-out procedure?', 4: 'A: Please leave the key inside the lockbox and ensure all windows and doors are locked.', 5: 'Q: What is the PIN code for the lockbox?', 6: 'A: The PIN code is 7469. Please ensure you keep it confidential.'}}\", 'table_summary': 'Table ID: id_2\\nTable Caption: Property Check-in and Check-out Information\\nKeep Table: Yes,\\nwith the following columns:\\n'}, hash='ddb3338e18a31fcdbc1dc1c0e31a3cff32065b4bd85feb71ccc918b50bbcb10f')}, text='Table ID: id_2\\nTable Caption: Property Check-in and Check-out Information\\nKeep Table: Yes,\\nwith the following columns:\\n', start_char_idx=None, end_char_idx=None, text_template='{metadata_str}\\n\\n{content}', metadata_template='{key}: {value}', metadata_seperator='\\n', index_id='id_5ac92209-10a6-4076-bcc0-847339ca47d5_2_table', obj=TextNode(id_='id_5ac92209-10a6-4076-bcc0-847339ca47d5_2_table', embedding=None, metadata={'table_df': \"{'1': {0: ' ', 1: '2', 2: ' ', 3: '3', 4: ' ', 5: '4', 6: ' '}, 'Q: How do I check in to the property?': {0: 'A: You can check in using the lockbox located at the main entrance, on the right wall. The pin code is 7469.', 1: 'Q: Where can I find the key to the property?', 2: 'A: The key is located inside the lockbox at the main entrance, on the right wall. Please use the pin code 7469 to access it.', 3: 'Q: What is the check-out procedure?', 4: 'A: Please leave the key inside the lockbox and ensure all windows and doors are locked.', 5: 'Q: What is the PIN code for the lockbox?', 6: 'A: The PIN code is 7469. Please ensure you keep it confidential.'}}\", 'table_summary': 'Table ID: id_2\\nTable Caption: Property Check-in and Check-out Information\\nKeep Table: Yes,\\nwith the following columns:\\n'}, excluded_embed_metadata_keys=['table_df', 'table_summary'], excluded_llm_metadata_keys=['table_df', 'table_summary'], relationships={<NodeRelationship.PREVIOUS: '2'>: RelatedNodeInfo(node_id='id_5ac92209-10a6-4076-bcc0-847339ca47d5_2_table_ref', node_type=<ObjectType.INDEX: '3'>, metadata={'col_schema': ''}, hash='0ade328d12f06180df2ca425461fdee2460f55a52f41e969a194b6bf99dfbd48'), <NodeRelationship.NEXT: '3'>: RelatedNodeInfo(node_id='bc497804-28a4-4b0e-9d8d-35108fa754a3', node_type=<ObjectType.TEXT: '1'>, metadata={}, hash='8c8f772e541e7f04d4ecc0db5a5beefa595968dba739b226d757c53112caed65')}, text='Table ID: id_2\\nTable Caption: Property Check-in and Check-out Information\\nKeep Table: Yes,\\nwith the following columns:\\n\\n|1|Q: How do I check in to the property?|\\n|---|---|\\n| |A: You can check in using the lockbox located at the main entrance, on the right wall. The pin code is 7469.|\\n|2|Q: Where can I find the key to the property?|\\n| |A: The key is located inside the lockbox at the main entrance, on the right wall. Please use the pin code 7469 to access it.|\\n|3|Q: What is the check-out procedure?|\\n| |A: Please leave the key inside the lockbox and ensure all windows and doors are locked.|\\n|4|Q: What is the PIN code for the lockbox?|\\n| |A: The PIN code is 7469. Please ensure you keep it confidential.|\\n', start_char_idx=None, end_char_idx=None, text_template='{metadata_str}\\n\\n{content}', metadata_template='{key}: {value}', metadata_seperator='\\n'))]\n"
     ]
    }
   ],
   "source": [
    "print(nodes[0:2])"
   ]
  }
 ],
 "metadata": {
  "kernelspec": {
   "display_name": ".venv",
   "language": "python",
   "name": "python3"
  },
  "language_info": {
   "codemirror_mode": {
    "name": "ipython",
    "version": 3
   },
   "file_extension": ".py",
   "mimetype": "text/x-python",
   "name": "python",
   "nbconvert_exporter": "python",
   "pygments_lexer": "ipython3",
   "version": "3.11.6"
  }
 },
 "nbformat": 4,
 "nbformat_minor": 2
}
